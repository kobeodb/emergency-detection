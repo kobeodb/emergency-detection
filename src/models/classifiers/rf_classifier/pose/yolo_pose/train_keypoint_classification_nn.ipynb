{
 "cells": [
  {
   "cell_type": "code",
   "id": "initial_id",
   "metadata": {
    "collapsed": true,
    "ExecuteTime": {
     "end_time": "2024-12-18T02:22:16.311107Z",
     "start_time": "2024-12-18T02:22:16.307909Z"
    }
   },
   "source": [
    "import numpy as np\n",
    "import pandas as pd\n",
    "from tqdm import tqdm\n",
    "import matplotlib.pyplot as plt\n",
    "\n",
    "from sklearn.preprocessing import LabelEncoder, MinMaxScaler\n",
    "from sklearn.utils.class_weight import compute_class_weight\n",
    "from sklearn.model_selection import train_test_split\n",
    "from sklearn.metrics import classification_report, confusion_matrix\n",
    "\n",
    "import torch\n",
    "from torch import nn\n",
    "from torch.utils.data import Dataset, DataLoader, SubsetRandomSampler\n",
    "\n",
    "device = torch.device(\"mps\" if torch.mps.is_available() else \"cpu\")"
   ],
   "outputs": [],
   "execution_count": 136
  },
  {
   "metadata": {
    "ExecuteTime": {
     "end_time": "2024-12-18T02:22:16.335262Z",
     "start_time": "2024-12-18T02:22:16.322506Z"
    }
   },
   "cell_type": "code",
   "source": [
    "df = pd.read_csv('fall_pose_keypoint_v2.csv')\n",
    "df.head()"
   ],
   "id": "ced979c5220eaf2f",
   "outputs": [
    {
     "data": {
      "text/plain": [
       "                                                 image_name     label  \\\n",
       "0                                           poepoes (7).jpg  needhelp   \n",
       "1  people-1671-_jpg.rf.721c4272719dbac3265bbb8a7a50e4a5.jpg  needhelp   \n",
       "2  people-1671-_jpg.rf.721c4272719dbac3265bbb8a7a50e4a5.jpg  needhelp   \n",
       "3  people-1671-_jpg.rf.721c4272719dbac3265bbb8a7a50e4a5.jpg  needhelp   \n",
       "4  people-1671-_jpg.rf.721c4272719dbac3265bbb8a7a50e4a5.jpg  needhelp   \n",
       "\n",
       "     nose_x    nose_y  left_eye_x  left_eye_y  right_eye_x  right_eye_y  \\\n",
       "0  0.802498  0.561774    0.813926    0.562861     0.819918     0.544108   \n",
       "1  0.000000  0.000000    0.000000    0.000000     0.000000     0.000000   \n",
       "2  0.000000  0.000000    0.000000    0.000000     0.000000     0.000000   \n",
       "3  0.000000  0.000000    0.000000    0.000000     0.000000     0.000000   \n",
       "4  0.000000  0.000000    0.000000    0.000000     0.000000     0.000000   \n",
       "\n",
       "   left_ear_x  left_ear_y  ...  right_hip_x  right_hip_y  left_knee_x  \\\n",
       "0    0.814199    0.565528  ...     0.518126     0.496779     0.384694   \n",
       "1    0.000000    0.000000  ...     0.049140     0.096838     0.036475   \n",
       "2    0.000000    0.000000  ...     0.236854     0.078964     0.199388   \n",
       "3    0.000000    0.000000  ...     0.000000     0.000000     0.981390   \n",
       "4    0.000000    0.000000  ...     0.797548     0.024245     0.820755   \n",
       "\n",
       "   left_knee_y  right_knee_x  right_knee_y  left_ankle_x  left_ankle_y  \\\n",
       "0     0.551551      0.379427      0.505839      0.234543      0.503823   \n",
       "1     0.216825      0.056460      0.221321      0.051879      0.373114   \n",
       "2     0.161084      0.247893      0.161160      0.164344      0.252980   \n",
       "3     0.259671      0.982661      0.260302      0.947703      0.360081   \n",
       "4     0.100652      0.795297      0.101185      0.804242      0.171119   \n",
       "\n",
       "   right_ankle_x  right_ankle_y  \n",
       "0       0.221133       0.427620  \n",
       "1       0.061669       0.382340  \n",
       "2       0.273755       0.252240  \n",
       "3       0.953294       0.361626  \n",
       "4       0.787399       0.173734  \n",
       "\n",
       "[5 rows x 36 columns]"
      ],
      "text/html": [
       "<div>\n",
       "<style scoped>\n",
       "    .dataframe tbody tr th:only-of-type {\n",
       "        vertical-align: middle;\n",
       "    }\n",
       "\n",
       "    .dataframe tbody tr th {\n",
       "        vertical-align: top;\n",
       "    }\n",
       "\n",
       "    .dataframe thead th {\n",
       "        text-align: right;\n",
       "    }\n",
       "</style>\n",
       "<table border=\"1\" class=\"dataframe\">\n",
       "  <thead>\n",
       "    <tr style=\"text-align: right;\">\n",
       "      <th></th>\n",
       "      <th>image_name</th>\n",
       "      <th>label</th>\n",
       "      <th>nose_x</th>\n",
       "      <th>nose_y</th>\n",
       "      <th>left_eye_x</th>\n",
       "      <th>left_eye_y</th>\n",
       "      <th>right_eye_x</th>\n",
       "      <th>right_eye_y</th>\n",
       "      <th>left_ear_x</th>\n",
       "      <th>left_ear_y</th>\n",
       "      <th>...</th>\n",
       "      <th>right_hip_x</th>\n",
       "      <th>right_hip_y</th>\n",
       "      <th>left_knee_x</th>\n",
       "      <th>left_knee_y</th>\n",
       "      <th>right_knee_x</th>\n",
       "      <th>right_knee_y</th>\n",
       "      <th>left_ankle_x</th>\n",
       "      <th>left_ankle_y</th>\n",
       "      <th>right_ankle_x</th>\n",
       "      <th>right_ankle_y</th>\n",
       "    </tr>\n",
       "  </thead>\n",
       "  <tbody>\n",
       "    <tr>\n",
       "      <th>0</th>\n",
       "      <td>poepoes (7).jpg</td>\n",
       "      <td>needhelp</td>\n",
       "      <td>0.802498</td>\n",
       "      <td>0.561774</td>\n",
       "      <td>0.813926</td>\n",
       "      <td>0.562861</td>\n",
       "      <td>0.819918</td>\n",
       "      <td>0.544108</td>\n",
       "      <td>0.814199</td>\n",
       "      <td>0.565528</td>\n",
       "      <td>...</td>\n",
       "      <td>0.518126</td>\n",
       "      <td>0.496779</td>\n",
       "      <td>0.384694</td>\n",
       "      <td>0.551551</td>\n",
       "      <td>0.379427</td>\n",
       "      <td>0.505839</td>\n",
       "      <td>0.234543</td>\n",
       "      <td>0.503823</td>\n",
       "      <td>0.221133</td>\n",
       "      <td>0.427620</td>\n",
       "    </tr>\n",
       "    <tr>\n",
       "      <th>1</th>\n",
       "      <td>people-1671-_jpg.rf.721c4272719dbac3265bbb8a7a50e4a5.jpg</td>\n",
       "      <td>needhelp</td>\n",
       "      <td>0.000000</td>\n",
       "      <td>0.000000</td>\n",
       "      <td>0.000000</td>\n",
       "      <td>0.000000</td>\n",
       "      <td>0.000000</td>\n",
       "      <td>0.000000</td>\n",
       "      <td>0.000000</td>\n",
       "      <td>0.000000</td>\n",
       "      <td>...</td>\n",
       "      <td>0.049140</td>\n",
       "      <td>0.096838</td>\n",
       "      <td>0.036475</td>\n",
       "      <td>0.216825</td>\n",
       "      <td>0.056460</td>\n",
       "      <td>0.221321</td>\n",
       "      <td>0.051879</td>\n",
       "      <td>0.373114</td>\n",
       "      <td>0.061669</td>\n",
       "      <td>0.382340</td>\n",
       "    </tr>\n",
       "    <tr>\n",
       "      <th>2</th>\n",
       "      <td>people-1671-_jpg.rf.721c4272719dbac3265bbb8a7a50e4a5.jpg</td>\n",
       "      <td>needhelp</td>\n",
       "      <td>0.000000</td>\n",
       "      <td>0.000000</td>\n",
       "      <td>0.000000</td>\n",
       "      <td>0.000000</td>\n",
       "      <td>0.000000</td>\n",
       "      <td>0.000000</td>\n",
       "      <td>0.000000</td>\n",
       "      <td>0.000000</td>\n",
       "      <td>...</td>\n",
       "      <td>0.236854</td>\n",
       "      <td>0.078964</td>\n",
       "      <td>0.199388</td>\n",
       "      <td>0.161084</td>\n",
       "      <td>0.247893</td>\n",
       "      <td>0.161160</td>\n",
       "      <td>0.164344</td>\n",
       "      <td>0.252980</td>\n",
       "      <td>0.273755</td>\n",
       "      <td>0.252240</td>\n",
       "    </tr>\n",
       "    <tr>\n",
       "      <th>3</th>\n",
       "      <td>people-1671-_jpg.rf.721c4272719dbac3265bbb8a7a50e4a5.jpg</td>\n",
       "      <td>needhelp</td>\n",
       "      <td>0.000000</td>\n",
       "      <td>0.000000</td>\n",
       "      <td>0.000000</td>\n",
       "      <td>0.000000</td>\n",
       "      <td>0.000000</td>\n",
       "      <td>0.000000</td>\n",
       "      <td>0.000000</td>\n",
       "      <td>0.000000</td>\n",
       "      <td>...</td>\n",
       "      <td>0.000000</td>\n",
       "      <td>0.000000</td>\n",
       "      <td>0.981390</td>\n",
       "      <td>0.259671</td>\n",
       "      <td>0.982661</td>\n",
       "      <td>0.260302</td>\n",
       "      <td>0.947703</td>\n",
       "      <td>0.360081</td>\n",
       "      <td>0.953294</td>\n",
       "      <td>0.361626</td>\n",
       "    </tr>\n",
       "    <tr>\n",
       "      <th>4</th>\n",
       "      <td>people-1671-_jpg.rf.721c4272719dbac3265bbb8a7a50e4a5.jpg</td>\n",
       "      <td>needhelp</td>\n",
       "      <td>0.000000</td>\n",
       "      <td>0.000000</td>\n",
       "      <td>0.000000</td>\n",
       "      <td>0.000000</td>\n",
       "      <td>0.000000</td>\n",
       "      <td>0.000000</td>\n",
       "      <td>0.000000</td>\n",
       "      <td>0.000000</td>\n",
       "      <td>...</td>\n",
       "      <td>0.797548</td>\n",
       "      <td>0.024245</td>\n",
       "      <td>0.820755</td>\n",
       "      <td>0.100652</td>\n",
       "      <td>0.795297</td>\n",
       "      <td>0.101185</td>\n",
       "      <td>0.804242</td>\n",
       "      <td>0.171119</td>\n",
       "      <td>0.787399</td>\n",
       "      <td>0.173734</td>\n",
       "    </tr>\n",
       "  </tbody>\n",
       "</table>\n",
       "<p>5 rows × 36 columns</p>\n",
       "</div>"
      ]
     },
     "execution_count": 137,
     "metadata": {},
     "output_type": "execute_result"
    }
   ],
   "execution_count": 137
  },
  {
   "metadata": {
    "ExecuteTime": {
     "end_time": "2024-12-18T02:22:16.374700Z",
     "start_time": "2024-12-18T02:22:16.369554Z"
    }
   },
   "cell_type": "code",
   "source": "df.info()",
   "id": "24bf5721ac4909cf",
   "outputs": [
    {
     "name": "stdout",
     "output_type": "stream",
     "text": [
      "<class 'pandas.core.frame.DataFrame'>\n",
      "RangeIndex: 455 entries, 0 to 454\n",
      "Data columns (total 36 columns):\n",
      " #   Column            Non-Null Count  Dtype  \n",
      "---  ------            --------------  -----  \n",
      " 0   image_name        455 non-null    object \n",
      " 1   label             455 non-null    object \n",
      " 2   nose_x            455 non-null    float64\n",
      " 3   nose_y            455 non-null    float64\n",
      " 4   left_eye_x        455 non-null    float64\n",
      " 5   left_eye_y        455 non-null    float64\n",
      " 6   right_eye_x       455 non-null    float64\n",
      " 7   right_eye_y       455 non-null    float64\n",
      " 8   left_ear_x        455 non-null    float64\n",
      " 9   left_ear_y        455 non-null    float64\n",
      " 10  right_ear_x       455 non-null    float64\n",
      " 11  right_ear_y       455 non-null    float64\n",
      " 12  left_shoulder_x   455 non-null    float64\n",
      " 13  left_shoulder_y   455 non-null    float64\n",
      " 14  right_shoulder_x  455 non-null    float64\n",
      " 15  right_shoulder_y  455 non-null    float64\n",
      " 16  left_elbow_x      455 non-null    float64\n",
      " 17  left_elbow_y      455 non-null    float64\n",
      " 18  right_elbow_x     455 non-null    float64\n",
      " 19  right_elbow_y     455 non-null    float64\n",
      " 20  left_wrist_x      455 non-null    float64\n",
      " 21  left_wrist_y      455 non-null    float64\n",
      " 22  right_wrist_x     455 non-null    float64\n",
      " 23  right_wrist_y     455 non-null    float64\n",
      " 24  left_hip_x        455 non-null    float64\n",
      " 25  left_hip_y        455 non-null    float64\n",
      " 26  right_hip_x       455 non-null    float64\n",
      " 27  right_hip_y       455 non-null    float64\n",
      " 28  left_knee_x       455 non-null    float64\n",
      " 29  left_knee_y       455 non-null    float64\n",
      " 30  right_knee_x      455 non-null    float64\n",
      " 31  right_knee_y      455 non-null    float64\n",
      " 32  left_ankle_x      455 non-null    float64\n",
      " 33  left_ankle_y      455 non-null    float64\n",
      " 34  right_ankle_x     455 non-null    float64\n",
      " 35  right_ankle_y     455 non-null    float64\n",
      "dtypes: float64(34), object(2)\n",
      "memory usage: 128.1+ KB\n"
     ]
    }
   ],
   "execution_count": 138
  },
  {
   "metadata": {
    "ExecuteTime": {
     "end_time": "2024-12-18T02:22:16.491360Z",
     "start_time": "2024-12-18T02:22:16.442063Z"
    }
   },
   "cell_type": "code",
   "source": [
    "df.label.value_counts().plot(kind=\"bar\")\n",
    "plt.xticks(rotation=45)\n",
    "plt.show()"
   ],
   "id": "c020b5bb64a3b4c6",
   "outputs": [
    {
     "data": {
      "text/plain": [
       "<Figure size 640x480 with 1 Axes>"
      ],
      "image/png": "[encoded data removed]"
     },
     "metadata": {},
     "output_type": "display_data"
    }
   ],
   "execution_count": 139
  },
  {
   "metadata": {
    "ExecuteTime": {
     "end_time": "2024-12-18T02:22:16.564867Z",
     "start_time": "2024-12-18T02:22:16.560768Z"
    }
   },
   "cell_type": "code",
   "source": [
    "encoder = LabelEncoder()\n",
    "y_label = df['label']\n",
    "y = encoder.fit_transform(y_label)\n",
    "y"
   ],
   "id": "7341c3b67daa540c",
   "outputs": [
    {
     "data": {
      "text/plain": [
       "array([1, 1, 1, 1, 1, 1, 1, 1, 1, 1, 1, 1, 1, 1, 1, 1, 1, 1, 1, 1, 1, 1,\n",
       "       1, 1, 1, 1, 1, 1, 1, 1, 1, 1, 1, 1, 1, 1, 1, 1, 1, 1, 1, 1, 1, 1,\n",
       "       1, 1, 1, 1, 1, 1, 1, 1, 1, 1, 1, 1, 1, 1, 1, 1, 1, 1, 1, 1, 1, 1,\n",
       "       1, 1, 1, 1, 1, 1, 1, 1, 1, 1, 1, 1, 1, 1, 1, 1, 1, 1, 1, 1, 1, 1,\n",
       "       1, 1, 1, 1, 1, 1, 1, 1, 1, 1, 1, 1, 1, 1, 1, 1, 1, 1, 1, 1, 1, 1,\n",
       "       1, 1, 1, 1, 1, 1, 1, 1, 1, 1, 1, 1, 1, 1, 1, 1, 1, 1, 1, 1, 1, 1,\n",
       "       1, 1, 1, 1, 1, 1, 1, 1, 1, 1, 1, 1, 1, 1, 1, 1, 1, 1, 1, 1, 1, 1,\n",
       "       1, 1, 1, 1, 1, 1, 1, 1, 1, 1, 1, 1, 1, 1, 1, 1, 1, 1, 1, 1, 1, 1,\n",
       "       1, 1, 1, 1, 1, 1, 1, 1, 1, 1, 1, 1, 1, 1, 1, 1, 1, 1, 1, 1, 1, 1,\n",
       "       1, 1, 1, 1, 1, 1, 1, 1, 1, 1, 1, 1, 1, 1, 1, 1, 1, 1, 1, 1, 1, 1,\n",
       "       1, 1, 1, 1, 1, 1, 1, 1, 1, 1, 1, 1, 1, 1, 1, 1, 1, 1, 1, 1, 1, 1,\n",
       "       1, 1, 1, 1, 1, 1, 1, 1, 1, 1, 1, 1, 1, 1, 1, 1, 1, 1, 1, 1, 1, 1,\n",
       "       1, 1, 1, 1, 1, 1, 1, 1, 1, 1, 1, 1, 1, 1, 1, 1, 1, 1, 1, 1, 1, 1,\n",
       "       1, 1, 0, 0, 0, 0, 0, 0, 0, 0, 0, 0, 0, 0, 0, 0, 0, 0, 0, 0, 0, 0,\n",
       "       0, 0, 0, 0, 0, 0, 0, 0, 0, 0, 0, 0, 0, 0, 0, 0, 0, 0, 0, 0, 0, 0,\n",
       "       0, 0, 0, 0, 0, 0, 0, 0, 0, 0, 0, 0, 0, 0, 0, 0, 0, 0, 0, 0, 0, 0,\n",
       "       0, 0, 0, 0, 0, 0, 0, 0, 0, 0, 0, 0, 0, 0, 0, 0, 0, 0, 0, 0, 0, 0,\n",
       "       0, 0, 0, 0, 0, 0, 0, 0, 0, 0, 0, 0, 0, 0, 0, 0, 0, 0, 0, 0, 0, 0,\n",
       "       0, 0, 0, 0, 0, 0, 0, 0, 0, 0, 0, 0, 0, 0, 0, 0, 0, 0, 0, 0, 0, 0,\n",
       "       0, 0, 0, 0, 0, 0, 0, 0, 0, 0, 0, 0, 0, 0, 0, 0, 0, 0, 0, 0, 0, 0,\n",
       "       0, 0, 0, 0, 0, 0, 0, 0, 0, 0, 0, 0, 0, 0, 0])"
      ]
     },
     "execution_count": 140,
     "metadata": {},
     "output_type": "execute_result"
    }
   ],
   "execution_count": 140
  },
  {
   "metadata": {
    "ExecuteTime": {
     "end_time": "2024-12-18T02:22:16.676343Z",
     "start_time": "2024-12-18T02:22:16.671633Z"
    }
   },
   "cell_type": "code",
   "source": [
    "class_weights = compute_class_weight(class_weight='balanced', classes=np.unique(y), y=y)\n",
    "class_weights"
   ],
   "id": "a7c537d268bd507a",
   "outputs": [
    {
     "data": {
      "text/plain": [
       "array([1.36227545, 0.78993056])"
      ]
     },
     "execution_count": 141,
     "metadata": {},
     "output_type": "execute_result"
    }
   ],
   "execution_count": 141
  },
  {
   "metadata": {
    "ExecuteTime": {
     "end_time": "2024-12-18T02:22:16.730133Z",
     "start_time": "2024-12-18T02:22:16.720122Z"
    }
   },
   "cell_type": "code",
   "source": [
    "X = df.iloc[:,12:]\n",
    "X"
   ],
   "id": "f95b252c5c5d5967",
   "outputs": [
    {
     "data": {
      "text/plain": [
       "     left_shoulder_x  left_shoulder_y  right_shoulder_x  right_shoulder_y  \\\n",
       "0           0.737621         0.603241          0.748894          0.569644   \n",
       "1           0.000000         0.000000          0.000000          0.000000   \n",
       "2           0.000000         0.000000          0.000000          0.000000   \n",
       "3           0.000000         0.000000          0.000000          0.000000   \n",
       "4           0.000000         0.000000          0.000000          0.000000   \n",
       "..               ...              ...               ...               ...   \n",
       "450         0.594235         0.659185          0.505238          0.649343   \n",
       "451         0.496982         0.236859          0.407661          0.222786   \n",
       "452         0.261371         0.413688          0.461764          0.422827   \n",
       "453         0.313163         0.484568          0.137242          0.555459   \n",
       "454         0.661914         0.245791          0.383429          0.234532   \n",
       "\n",
       "     left_elbow_x  left_elbow_y  right_elbow_x  right_elbow_y  left_wrist_x  \\\n",
       "0        0.667450      0.695868       0.660114       0.690150      0.596473   \n",
       "1        0.000000      0.000000       0.084541       0.045062      0.000000   \n",
       "2        0.000000      0.000000       0.171284       0.021137      0.000000   \n",
       "3        0.000000      0.000000       0.000000       0.000000      0.000000   \n",
       "4        0.000000      0.000000       0.000000       0.000000      0.000000   \n",
       "..            ...           ...            ...            ...           ...   \n",
       "450      0.668350      0.708480       0.474453       0.745726      0.779290   \n",
       "451      0.488561      0.340682       0.380669       0.308000      0.449925   \n",
       "452      0.252134      0.595633       0.501921       0.617160      0.307776   \n",
       "453      0.397813      0.564712       0.141219       0.681107      0.322517   \n",
       "454      0.707754      0.412023       0.327659       0.398729      0.693431   \n",
       "\n",
       "     left_wrist_y  ...  right_hip_x  right_hip_y  left_knee_x  left_knee_y  \\\n",
       "0        0.810467  ...     0.518126     0.496779     0.384694     0.551551   \n",
       "1        0.000000  ...     0.049140     0.096838     0.036475     0.216825   \n",
       "2        0.000000  ...     0.236854     0.078964     0.199388     0.161084   \n",
       "3        0.000000  ...     0.000000     0.000000     0.981390     0.259671   \n",
       "4        0.000000  ...     0.797548     0.024245     0.820755     0.100652   \n",
       "..            ...  ...          ...          ...          ...          ...   \n",
       "450      0.725125  ...     0.523627     0.802135     0.625487     0.846450   \n",
       "451      0.371222  ...     0.496603     0.289264     0.508971     0.421559   \n",
       "452      0.714301  ...     0.503409     0.648947     0.601380     0.675591   \n",
       "453      0.656164  ...     0.433086     0.663004     0.765346     0.540039   \n",
       "454      0.488320  ...     0.424852     0.498024     0.651696     0.578365   \n",
       "\n",
       "     right_knee_x  right_knee_y  left_ankle_x  left_ankle_y  right_ankle_x  \\\n",
       "0        0.379427      0.505839      0.234543      0.503823       0.221133   \n",
       "1        0.056460      0.221321      0.051879      0.373114       0.061669   \n",
       "2        0.247893      0.161160      0.164344      0.252980       0.273755   \n",
       "3        0.982661      0.260302      0.947703      0.360081       0.953294   \n",
       "4        0.795297      0.101185      0.804242      0.171119       0.787399   \n",
       "..            ...           ...           ...           ...            ...   \n",
       "450      0.604611      0.841912      0.683063      0.938181       0.694631   \n",
       "451      0.469300      0.413817      0.510707      0.582183       0.497219   \n",
       "452      0.696195      0.684788      0.846905      0.690198       0.849311   \n",
       "453      0.704348      0.599524      0.882335      0.558184       0.876478   \n",
       "454      0.408432      0.585514      0.597189      0.854393       0.415166   \n",
       "\n",
       "     right_ankle_y  \n",
       "0         0.427620  \n",
       "1         0.382340  \n",
       "2         0.252240  \n",
       "3         0.361626  \n",
       "4         0.173734  \n",
       "..             ...  \n",
       "450       0.936143  \n",
       "451       0.574109  \n",
       "452       0.694144  \n",
       "453       0.591071  \n",
       "454       0.871290  \n",
       "\n",
       "[455 rows x 24 columns]"
      ],
      "text/html": [
       "<div>\n",
       "<style scoped>\n",
       "    .dataframe tbody tr th:only-of-type {\n",
       "        vertical-align: middle;\n",
       "    }\n",
       "\n",
       "    .dataframe tbody tr th {\n",
       "        vertical-align: top;\n",
       "    }\n",
       "\n",
       "    .dataframe thead th {\n",
       "        text-align: right;\n",
       "    }\n",
       "</style>\n",
       "<table border=\"1\" class=\"dataframe\">\n",
       "  <thead>\n",
       "    <tr style=\"text-align: right;\">\n",
       "      <th></th>\n",
       "      <th>left_shoulder_x</th>\n",
       "      <th>left_shoulder_y</th>\n",
       "      <th>right_shoulder_x</th>\n",
       "      <th>right_shoulder_y</th>\n",
       "      <th>left_elbow_x</th>\n",
       "      <th>left_elbow_y</th>\n",
       "      <th>right_elbow_x</th>\n",
       "      <th>right_elbow_y</th>\n",
       "      <th>left_wrist_x</th>\n",
       "      <th>left_wrist_y</th>\n",
       "      <th>...</th>\n",
       "      <th>right_hip_x</th>\n",
       "      <th>right_hip_y</th>\n",
       "      <th>left_knee_x</th>\n",
       "      <th>left_knee_y</th>\n",
       "      <th>right_knee_x</th>\n",
       "      <th>right_knee_y</th>\n",
       "      <th>left_ankle_x</th>\n",
       "      <th>left_ankle_y</th>\n",
       "      <th>right_ankle_x</th>\n",
       "      <th>right_ankle_y</th>\n",
       "    </tr>\n",
       "  </thead>\n",
       "  <tbody>\n",
       "    <tr>\n",
       "      <th>0</th>\n",
       "      <td>0.737621</td>\n",
       "      <td>0.603241</td>\n",
       "      <td>0.748894</td>\n",
       "      <td>0.569644</td>\n",
       "      <td>0.667450</td>\n",
       "      <td>0.695868</td>\n",
       "      <td>0.660114</td>\n",
       "      <td>0.690150</td>\n",
       "      <td>0.596473</td>\n",
       "      <td>0.810467</td>\n",
       "      <td>...</td>\n",
       "      <td>0.518126</td>\n",
       "      <td>0.496779</td>\n",
       "      <td>0.384694</td>\n",
       "      <td>0.551551</td>\n",
       "      <td>0.379427</td>\n",
       "      <td>0.505839</td>\n",
       "      <td>0.234543</td>\n",
       "      <td>0.503823</td>\n",
       "      <td>0.221133</td>\n",
       "      <td>0.427620</td>\n",
       "    </tr>\n",
       "    <tr>\n",
       "      <th>1</th>\n",
       "      <td>0.000000</td>\n",
       "      <td>0.000000</td>\n",
       "      <td>0.000000</td>\n",
       "      <td>0.000000</td>\n",
       "      <td>0.000000</td>\n",
       "      <td>0.000000</td>\n",
       "      <td>0.084541</td>\n",
       "      <td>0.045062</td>\n",
       "      <td>0.000000</td>\n",
       "      <td>0.000000</td>\n",
       "      <td>...</td>\n",
       "      <td>0.049140</td>\n",
       "      <td>0.096838</td>\n",
       "      <td>0.036475</td>\n",
       "      <td>0.216825</td>\n",
       "      <td>0.056460</td>\n",
       "      <td>0.221321</td>\n",
       "      <td>0.051879</td>\n",
       "      <td>0.373114</td>\n",
       "      <td>0.061669</td>\n",
       "      <td>0.382340</td>\n",
       "    </tr>\n",
       "    <tr>\n",
       "      <th>2</th>\n",
       "      <td>0.000000</td>\n",
       "      <td>0.000000</td>\n",
       "      <td>0.000000</td>\n",
       "      <td>0.000000</td>\n",
       "      <td>0.000000</td>\n",
       "      <td>0.000000</td>\n",
       "      <td>0.171284</td>\n",
       "      <td>0.021137</td>\n",
       "      <td>0.000000</td>\n",
       "      <td>0.000000</td>\n",
       "      <td>...</td>\n",
       "      <td>0.236854</td>\n",
       "      <td>0.078964</td>\n",
       "      <td>0.199388</td>\n",
       "      <td>0.161084</td>\n",
       "      <td>0.247893</td>\n",
       "      <td>0.161160</td>\n",
       "      <td>0.164344</td>\n",
       "      <td>0.252980</td>\n",
       "      <td>0.273755</td>\n",
       "      <td>0.252240</td>\n",
       "    </tr>\n",
       "    <tr>\n",
       "      <th>3</th>\n",
       "      <td>0.000000</td>\n",
       "      <td>0.000000</td>\n",
       "      <td>0.000000</td>\n",
       "      <td>0.000000</td>\n",
       "      <td>0.000000</td>\n",
       "      <td>0.000000</td>\n",
       "      <td>0.000000</td>\n",
       "      <td>0.000000</td>\n",
       "      <td>0.000000</td>\n",
       "      <td>0.000000</td>\n",
       "      <td>...</td>\n",
       "      <td>0.000000</td>\n",
       "      <td>0.000000</td>\n",
       "      <td>0.981390</td>\n",
       "      <td>0.259671</td>\n",
       "      <td>0.982661</td>\n",
       "      <td>0.260302</td>\n",
       "      <td>0.947703</td>\n",
       "      <td>0.360081</td>\n",
       "      <td>0.953294</td>\n",
       "      <td>0.361626</td>\n",
       "    </tr>\n",
       "    <tr>\n",
       "      <th>4</th>\n",
       "      <td>0.000000</td>\n",
       "      <td>0.000000</td>\n",
       "      <td>0.000000</td>\n",
       "      <td>0.000000</td>\n",
       "      <td>0.000000</td>\n",
       "      <td>0.000000</td>\n",
       "      <td>0.000000</td>\n",
       "      <td>0.000000</td>\n",
       "      <td>0.000000</td>\n",
       "      <td>0.000000</td>\n",
       "      <td>...</td>\n",
       "      <td>0.797548</td>\n",
       "      <td>0.024245</td>\n",
       "      <td>0.820755</td>\n",
       "      <td>0.100652</td>\n",
       "      <td>0.795297</td>\n",
       "      <td>0.101185</td>\n",
       "      <td>0.804242</td>\n",
       "      <td>0.171119</td>\n",
       "      <td>0.787399</td>\n",
       "      <td>0.173734</td>\n",
       "    </tr>\n",
       "    <tr>\n",
       "      <th>...</th>\n",
       "      <td>...</td>\n",
       "      <td>...</td>\n",
       "      <td>...</td>\n",
       "      <td>...</td>\n",
       "      <td>...</td>\n",
       "      <td>...</td>\n",
       "      <td>...</td>\n",
       "      <td>...</td>\n",
       "      <td>...</td>\n",
       "      <td>...</td>\n",
       "      <td>...</td>\n",
       "      <td>...</td>\n",
       "      <td>...</td>\n",
       "      <td>...</td>\n",
       "      <td>...</td>\n",
       "      <td>...</td>\n",
       "      <td>...</td>\n",
       "      <td>...</td>\n",
       "      <td>...</td>\n",
       "      <td>...</td>\n",
       "      <td>...</td>\n",
       "    </tr>\n",
       "    <tr>\n",
       "      <th>450</th>\n",
       "      <td>0.594235</td>\n",
       "      <td>0.659185</td>\n",
       "      <td>0.505238</td>\n",
       "      <td>0.649343</td>\n",
       "      <td>0.668350</td>\n",
       "      <td>0.708480</td>\n",
       "      <td>0.474453</td>\n",
       "      <td>0.745726</td>\n",
       "      <td>0.779290</td>\n",
       "      <td>0.725125</td>\n",
       "      <td>...</td>\n",
       "      <td>0.523627</td>\n",
       "      <td>0.802135</td>\n",
       "      <td>0.625487</td>\n",
       "      <td>0.846450</td>\n",
       "      <td>0.604611</td>\n",
       "      <td>0.841912</td>\n",
       "      <td>0.683063</td>\n",
       "      <td>0.938181</td>\n",
       "      <td>0.694631</td>\n",
       "      <td>0.936143</td>\n",
       "    </tr>\n",
       "    <tr>\n",
       "      <th>451</th>\n",
       "      <td>0.496982</td>\n",
       "      <td>0.236859</td>\n",
       "      <td>0.407661</td>\n",
       "      <td>0.222786</td>\n",
       "      <td>0.488561</td>\n",
       "      <td>0.340682</td>\n",
       "      <td>0.380669</td>\n",
       "      <td>0.308000</td>\n",
       "      <td>0.449925</td>\n",
       "      <td>0.371222</td>\n",
       "      <td>...</td>\n",
       "      <td>0.496603</td>\n",
       "      <td>0.289264</td>\n",
       "      <td>0.508971</td>\n",
       "      <td>0.421559</td>\n",
       "      <td>0.469300</td>\n",
       "      <td>0.413817</td>\n",
       "      <td>0.510707</td>\n",
       "      <td>0.582183</td>\n",
       "      <td>0.497219</td>\n",
       "      <td>0.574109</td>\n",
       "    </tr>\n",
       "    <tr>\n",
       "      <th>452</th>\n",
       "      <td>0.261371</td>\n",
       "      <td>0.413688</td>\n",
       "      <td>0.461764</td>\n",
       "      <td>0.422827</td>\n",
       "      <td>0.252134</td>\n",
       "      <td>0.595633</td>\n",
       "      <td>0.501921</td>\n",
       "      <td>0.617160</td>\n",
       "      <td>0.307776</td>\n",
       "      <td>0.714301</td>\n",
       "      <td>...</td>\n",
       "      <td>0.503409</td>\n",
       "      <td>0.648947</td>\n",
       "      <td>0.601380</td>\n",
       "      <td>0.675591</td>\n",
       "      <td>0.696195</td>\n",
       "      <td>0.684788</td>\n",
       "      <td>0.846905</td>\n",
       "      <td>0.690198</td>\n",
       "      <td>0.849311</td>\n",
       "      <td>0.694144</td>\n",
       "    </tr>\n",
       "    <tr>\n",
       "      <th>453</th>\n",
       "      <td>0.313163</td>\n",
       "      <td>0.484568</td>\n",
       "      <td>0.137242</td>\n",
       "      <td>0.555459</td>\n",
       "      <td>0.397813</td>\n",
       "      <td>0.564712</td>\n",
       "      <td>0.141219</td>\n",
       "      <td>0.681107</td>\n",
       "      <td>0.322517</td>\n",
       "      <td>0.656164</td>\n",
       "      <td>...</td>\n",
       "      <td>0.433086</td>\n",
       "      <td>0.663004</td>\n",
       "      <td>0.765346</td>\n",
       "      <td>0.540039</td>\n",
       "      <td>0.704348</td>\n",
       "      <td>0.599524</td>\n",
       "      <td>0.882335</td>\n",
       "      <td>0.558184</td>\n",
       "      <td>0.876478</td>\n",
       "      <td>0.591071</td>\n",
       "    </tr>\n",
       "    <tr>\n",
       "      <th>454</th>\n",
       "      <td>0.661914</td>\n",
       "      <td>0.245791</td>\n",
       "      <td>0.383429</td>\n",
       "      <td>0.234532</td>\n",
       "      <td>0.707754</td>\n",
       "      <td>0.412023</td>\n",
       "      <td>0.327659</td>\n",
       "      <td>0.398729</td>\n",
       "      <td>0.693431</td>\n",
       "      <td>0.488320</td>\n",
       "      <td>...</td>\n",
       "      <td>0.424852</td>\n",
       "      <td>0.498024</td>\n",
       "      <td>0.651696</td>\n",
       "      <td>0.578365</td>\n",
       "      <td>0.408432</td>\n",
       "      <td>0.585514</td>\n",
       "      <td>0.597189</td>\n",
       "      <td>0.854393</td>\n",
       "      <td>0.415166</td>\n",
       "      <td>0.871290</td>\n",
       "    </tr>\n",
       "  </tbody>\n",
       "</table>\n",
       "<p>455 rows × 24 columns</p>\n",
       "</div>"
      ]
     },
     "execution_count": 142,
     "metadata": {},
     "output_type": "execute_result"
    }
   ],
   "execution_count": 142
  },
  {
   "metadata": {
    "ExecuteTime": {
     "end_time": "2024-12-18T02:22:16.787173Z",
     "start_time": "2024-12-18T02:22:16.781911Z"
    }
   },
   "cell_type": "code",
   "source": [
    "X_train, X_test, y_train, y_test = train_test_split(X, y, test_size=0.2, stratify=y, shuffle=True, random_state=2022)\n",
    "\n",
    "print(\"Number of Training keypoints: \", len(X_train))\n",
    "print(\"Number of Testing keypoints: \", len(X_test))"
   ],
   "id": "bef5012c08f55431",
   "outputs": [
    {
     "name": "stdout",
     "output_type": "stream",
     "text": [
      "Number of Training keypoints:  364\n",
      "Number of Testing keypoints:  91\n"
     ]
    }
   ],
   "execution_count": 143
  },
  {
   "metadata": {
    "ExecuteTime": {
     "end_time": "2024-12-18T02:22:17.032941Z",
     "start_time": "2024-12-18T02:22:17.030892Z"
    }
   },
   "cell_type": "code",
   "source": "scaler = MinMaxScaler()",
   "id": "d29a8ede446f4b8e",
   "outputs": [],
   "execution_count": 144
  },
  {
   "metadata": {
    "ExecuteTime": {
     "end_time": "2024-12-18T02:22:17.105754Z",
     "start_time": "2024-12-18T02:22:17.099367Z"
    }
   },
   "cell_type": "code",
   "source": [
    "X_train = scaler.fit_transform(X_train)\n",
    "X_test = scaler.transform(X_test)\n",
    "X_test"
   ],
   "id": "25d3a2a2c7b67cf1",
   "outputs": [
    {
     "data": {
      "text/plain": [
       "array([[0.21089646, 0.73605159, 0.20885267, ..., 0.76751035, 0.84299006,\n",
       "        0.77841611],\n",
       "       [0.84429365, 0.91318913, 0.36132634, ..., 0.        , 0.        ,\n",
       "        0.        ],\n",
       "       [0.66627073, 0.94070668, 0.23023562, ..., 0.        , 0.        ,\n",
       "        0.        ],\n",
       "       ...,\n",
       "       [0.64260024, 0.25628811, 0.45901929, ..., 0.96515797, 0.47861468,\n",
       "        0.9429611 ],\n",
       "       [0.        , 0.        , 0.        , ..., 0.28139815, 0.82805958,\n",
       "        0.27589744],\n",
       "       [0.        , 0.        , 0.        , ..., 0.52185346, 0.95558333,\n",
       "        0.51556384]])"
      ]
     },
     "execution_count": 145,
     "metadata": {},
     "output_type": "execute_result"
    }
   ],
   "execution_count": 145
  },
  {
   "metadata": {
    "ExecuteTime": {
     "end_time": "2024-12-18T02:22:17.245366Z",
     "start_time": "2024-12-18T02:22:17.241887Z"
    }
   },
   "cell_type": "code",
   "source": [
    "class DataKeypointClassification(Dataset):\n",
    "    def __init__(self, X, y):\n",
    "        self.x = torch.from_numpy(X.astype(np.float32))\n",
    "        self.y = torch.from_numpy(y.astype(np.int64))\n",
    "        self.n_samples = X.shape[0]\n",
    "    \n",
    "    def __getitem__(self, index):\n",
    "        return self.x[index], self.y[index]\n",
    "    \n",
    "    def __len__(self):\n",
    "        return self.n_samples"
   ],
   "id": "4a776b8cfa858d03",
   "outputs": [],
   "execution_count": 146
  },
  {
   "metadata": {
    "ExecuteTime": {
     "end_time": "2024-12-18T02:22:17.385838Z",
     "start_time": "2024-12-18T02:22:17.381549Z"
    }
   },
   "cell_type": "code",
   "source": [
    "train_dataset = DataKeypointClassification(X_train, y_train)\n",
    "test_dataset = DataKeypointClassification(X_test, y_test)"
   ],
   "id": "c07faa7ce3771456",
   "outputs": [],
   "execution_count": 147
  },
  {
   "metadata": {
    "ExecuteTime": {
     "end_time": "2024-12-18T02:22:17.445296Z",
     "start_time": "2024-12-18T02:22:17.443178Z"
    }
   },
   "cell_type": "code",
   "source": [
    "batch_size = 12\n",
    "train_loader = DataLoader(train_dataset, batch_size=batch_size)\n",
    "test_loader = DataLoader(test_dataset, batch_size=batch_size)"
   ],
   "id": "57f8f903ec4519cf",
   "outputs": [],
   "execution_count": 148
  },
  {
   "metadata": {
    "ExecuteTime": {
     "end_time": "2024-12-18T02:22:17.538500Z",
     "start_time": "2024-12-18T02:22:17.535489Z"
    }
   },
   "cell_type": "code",
   "source": [
    "class NeuralNet(nn.Module):\n",
    "    def __init__(self, input_size, hidden_size, num_classes):\n",
    "        super(NeuralNet, self).__init__()\n",
    "        self.l1 = nn.Linear(input_size, hidden_size)\n",
    "        self.relu = nn.ReLU()\n",
    "        self.l2 = nn.Linear(hidden_size, num_classes)\n",
    "        \n",
    "    def forward(self, x):\n",
    "        out = self.l1(x)\n",
    "        out = self.relu(out)\n",
    "        out = self.l2(out)\n",
    "        return out"
   ],
   "id": "91c555333587033d",
   "outputs": [],
   "execution_count": 149
  },
  {
   "metadata": {
    "ExecuteTime": {
     "end_time": "2024-12-18T02:22:17.576360Z",
     "start_time": "2024-12-18T02:22:17.571153Z"
    }
   },
   "cell_type": "code",
   "source": [
    "hidden_size = 256\n",
    "model = NeuralNet(X_train.shape[1], hidden_size, len(class_weights))\n",
    "print(X_train.shape[1])"
   ],
   "id": "31d2aa3fb373351",
   "outputs": [
    {
     "name": "stdout",
     "output_type": "stream",
     "text": [
      "24\n"
     ]
    }
   ],
   "execution_count": 150
  },
  {
   "metadata": {
    "ExecuteTime": {
     "end_time": "2024-12-18T02:22:17.656638Z",
     "start_time": "2024-12-18T02:22:17.653684Z"
    }
   },
   "cell_type": "code",
   "source": "len(class_weights)",
   "id": "5f032ca73010afe9",
   "outputs": [
    {
     "data": {
      "text/plain": [
       "2"
      ]
     },
     "execution_count": 151,
     "metadata": {},
     "output_type": "execute_result"
    }
   ],
   "execution_count": 151
  },
  {
   "metadata": {
    "ExecuteTime": {
     "end_time": "2024-12-18T02:22:17.738796Z",
     "start_time": "2024-12-18T02:22:17.720080Z"
    }
   },
   "cell_type": "code",
   "source": [
    "learning_rate = 0.01\n",
    "criterion = nn.CrossEntropyLoss(weight=torch.from_numpy(class_weights.astype(np.float32)))\n",
    "optimizer = torch.optim.Adam(model.parameters(), lr=learning_rate)"
   ],
   "id": "d1966352aff9ff51",
   "outputs": [],
   "execution_count": 152
  },
  {
   "metadata": {
    "ExecuteTime": {
     "end_time": "2024-12-18T02:22:23.949964Z",
     "start_time": "2024-12-18T02:22:17.892714Z"
    }
   },
   "cell_type": "code",
   "source": [
    "num_epoch = 100\n",
    "for epoch in range(num_epoch):\n",
    "    train_acc = 0\n",
    "    train_loss = 0\n",
    "    loop = tqdm(train_loader)\n",
    "    for idx, (features, labels) in enumerate(loop):\n",
    "        outputs = model(features)\n",
    "        loss = criterion(outputs, labels)\n",
    "\n",
    "        predictions = outputs.argmax(dim=1, keepdim=True).squeeze()\n",
    "        correct = (predictions == labels).sum().item()\n",
    "        accuracy = correct / batch_size\n",
    "        optimizer.zero_grad()\n",
    "        loss.backward()\n",
    "        optimizer.step()\n",
    "\n",
    "        loop.set_description(f\"Epoch [{epoch}/{num_epoch}]\")\n",
    "        loop.set_postfix(loss=loss.item(), acc=accuracy)"
   ],
   "id": "8674860353087c91",
   "outputs": [
    {
     "name": "stderr",
     "output_type": "stream",
     "text": [
      "Epoch [0/100]: 100%|██████████| 31/31 [00:00<00:00, 221.45it/s, acc=0.0833, loss=0.772]\n",
      "Epoch [1/100]: 100%|██████████| 31/31 [00:00<00:00, 342.83it/s, acc=0.167, loss=0.702]\n",
      "Epoch [2/100]: 100%|██████████| 31/31 [00:00<00:00, 237.93it/s, acc=0.167, loss=0.712]\n",
      "Epoch [3/100]: 100%|██████████| 31/31 [00:00<00:00, 355.54it/s, acc=0.167, loss=0.748]\n",
      "Epoch [4/100]: 100%|██████████| 31/31 [00:00<00:00, 345.00it/s, acc=0.167, loss=0.72]\n",
      "Epoch [5/100]: 100%|██████████| 31/31 [00:00<00:00, 220.64it/s, acc=0.167, loss=0.79] \n",
      "Epoch [6/100]: 100%|██████████| 31/31 [00:00<00:00, 259.37it/s, acc=0.167, loss=0.683]\n",
      "Epoch [7/100]: 100%|██████████| 31/31 [00:00<00:00, 348.30it/s, acc=0.167, loss=0.675]\n",
      "Epoch [8/100]: 100%|██████████| 31/31 [00:00<00:00, 329.93it/s, acc=0.167, loss=0.683]\n",
      "Epoch [9/100]: 100%|██████████| 31/31 [00:00<00:00, 324.08it/s, acc=0.167, loss=0.71]\n",
      "Epoch [10/100]: 100%|██████████| 31/31 [00:00<00:00, 348.97it/s, acc=0.167, loss=0.648]\n",
      "Epoch [11/100]: 100%|██████████| 31/31 [00:00<00:00, 455.20it/s, acc=0.167, loss=0.681]\n",
      "Epoch [12/100]: 100%|██████████| 31/31 [00:00<00:00, 364.34it/s, acc=0.167, loss=0.643]\n",
      "Epoch [13/100]: 100%|██████████| 31/31 [00:00<00:00, 487.54it/s, acc=0.167, loss=0.693]\n",
      "Epoch [14/100]: 100%|██████████| 31/31 [00:00<00:00, 553.11it/s, acc=0.167, loss=0.594]\n",
      "Epoch [15/100]: 100%|██████████| 31/31 [00:00<00:00, 472.92it/s, acc=0.167, loss=0.755]\n",
      "Epoch [16/100]: 100%|██████████| 31/31 [00:00<00:00, 504.77it/s, acc=0.167, loss=0.467]\n",
      "Epoch [17/100]: 100%|██████████| 31/31 [00:00<00:00, 534.23it/s, acc=0.167, loss=0.54]\n",
      "Epoch [18/100]: 100%|██████████| 31/31 [00:00<00:00, 580.14it/s, acc=0.167, loss=0.537]\n",
      "Epoch [19/100]: 100%|██████████| 31/31 [00:00<00:00, 569.99it/s, acc=0.167, loss=0.581]\n",
      "Epoch [20/100]: 100%|██████████| 31/31 [00:00<00:00, 585.61it/s, acc=0.167, loss=0.68]\n",
      "Epoch [21/100]: 100%|██████████| 31/31 [00:00<00:00, 605.29it/s, acc=0.167, loss=0.531]\n",
      "Epoch [22/100]: 100%|██████████| 31/31 [00:00<00:00, 630.43it/s, acc=0.167, loss=0.442]\n",
      "Epoch [23/100]: 100%|██████████| 31/31 [00:00<00:00, 564.52it/s, acc=0.167, loss=0.515]\n",
      "Epoch [24/100]: 100%|██████████| 31/31 [00:00<00:00, 593.02it/s, acc=0.167, loss=0.511]\n",
      "Epoch [25/100]: 100%|██████████| 31/31 [00:00<00:00, 510.27it/s, acc=0.167, loss=0.56]\n",
      "Epoch [26/100]: 100%|██████████| 31/31 [00:00<00:00, 553.80it/s, acc=0.25, loss=0.333]\n",
      "Epoch [27/100]: 100%|██████████| 31/31 [00:00<00:00, 608.44it/s, acc=0.167, loss=0.684]\n",
      "Epoch [28/100]: 100%|██████████| 31/31 [00:00<00:00, 552.24it/s, acc=0.167, loss=0.369]\n",
      "Epoch [29/100]: 100%|██████████| 31/31 [00:00<00:00, 563.21it/s, acc=0.25, loss=0.375]\n",
      "Epoch [30/100]: 100%|██████████| 31/31 [00:00<00:00, 553.11it/s, acc=0.25, loss=0.349]\n",
      "Epoch [31/100]: 100%|██████████| 31/31 [00:00<00:00, 519.25it/s, acc=0.333, loss=0.216]\n",
      "Epoch [32/100]: 100%|██████████| 31/31 [00:00<00:00, 583.66it/s, acc=0.25, loss=0.3]\n",
      "Epoch [33/100]: 100%|██████████| 31/31 [00:00<00:00, 608.68it/s, acc=0.333, loss=0.212]\n",
      "Epoch [34/100]: 100%|██████████| 31/31 [00:00<00:00, 603.86it/s, acc=0.25, loss=0.32]\n",
      "Epoch [35/100]: 100%|██████████| 31/31 [00:00<00:00, 592.04it/s, acc=0.333, loss=0.238]\n",
      "Epoch [36/100]: 100%|██████████| 31/31 [00:00<00:00, 603.38it/s, acc=0.333, loss=0.244]\n",
      "Epoch [37/100]: 100%|██████████| 31/31 [00:00<00:00, 578.87it/s, acc=0.333, loss=0.124]\n",
      "Epoch [38/100]: 100%|██████████| 31/31 [00:00<00:00, 560.66it/s, acc=0.333, loss=0.163]\n",
      "Epoch [39/100]: 100%|██████████| 31/31 [00:00<00:00, 559.47it/s, acc=0.333, loss=0.112]\n",
      "Epoch [40/100]: 100%|██████████| 31/31 [00:00<00:00, 555.47it/s, acc=0.333, loss=0.174]\n",
      "Epoch [41/100]: 100%|██████████| 31/31 [00:00<00:00, 525.60it/s, acc=0.333, loss=0.126]\n",
      "Epoch [42/100]: 100%|██████████| 31/31 [00:00<00:00, 527.87it/s, acc=0.333, loss=0.0969]\n",
      "Epoch [43/100]: 100%|██████████| 31/31 [00:00<00:00, 544.37it/s, acc=0.333, loss=0.0612]\n",
      "Epoch [44/100]: 100%|██████████| 31/31 [00:00<00:00, 559.98it/s, acc=0.333, loss=0.107]\n",
      "Epoch [45/100]: 100%|██████████| 31/31 [00:00<00:00, 592.33it/s, acc=0.333, loss=0.0814]\n",
      "Epoch [46/100]: 100%|██████████| 31/31 [00:00<00:00, 571.01it/s, acc=0.333, loss=0.0814]\n",
      "Epoch [47/100]: 100%|██████████| 31/31 [00:00<00:00, 560.67it/s, acc=0.333, loss=0.0742]\n",
      "Epoch [48/100]: 100%|██████████| 31/31 [00:00<00:00, 591.92it/s, acc=0.333, loss=0.0866]\n",
      "Epoch [49/100]:   0%|          | 0/31 [00:00<?, ?it/s, acc=1, loss=0.0254]   IOPub message rate exceeded.\n",
      "The Jupyter server will temporarily stop sending output\n",
      "to the client in order to avoid crashing it.\n",
      "To change this limit, set the config variable\n",
      "`--ServerApp.iopub_msg_rate_limit`.\n",
      "\n",
      "Current values:\n",
      "ServerApp.iopub_msg_rate_limit=1000.0 (msgs/sec)\n",
      "ServerApp.rate_limit_window=3.0 (secs)\n",
      "\n",
      "Epoch [66/100]: 100%|██████████| 31/31 [00:00<00:00, 660.68it/s, acc=0.333, loss=0.0201]\n",
      "Epoch [67/100]: 100%|██████████| 31/31 [00:00<00:00, 616.88it/s, acc=0.333, loss=0.0172]\n",
      "Epoch [68/100]: 100%|██████████| 31/31 [00:00<00:00, 604.17it/s, acc=0.333, loss=0.0369]\n",
      "Epoch [69/100]: 100%|██████████| 31/31 [00:00<00:00, 604.39it/s, acc=0.333, loss=0.0107]\n",
      "Epoch [70/100]: 100%|██████████| 31/31 [00:00<00:00, 596.61it/s, acc=0.333, loss=0.0217]\n",
      "Epoch [71/100]: 100%|██████████| 31/31 [00:00<00:00, 587.11it/s, acc=0.333, loss=0.0284]\n",
      "Epoch [72/100]: 100%|██████████| 31/31 [00:00<00:00, 575.74it/s, acc=0.333, loss=0.0256]\n",
      "Epoch [73/100]: 100%|██████████| 31/31 [00:00<00:00, 567.29it/s, acc=0.333, loss=0.0407]\n",
      "Epoch [74/100]: 100%|██████████| 31/31 [00:00<00:00, 582.70it/s, acc=0.333, loss=0.0194]\n",
      "Epoch [75/100]: 100%|██████████| 31/31 [00:00<00:00, 605.90it/s, acc=0.333, loss=0.0219]\n",
      "Epoch [76/100]: 100%|██████████| 31/31 [00:00<00:00, 585.91it/s, acc=0.333, loss=0.0194]\n",
      "Epoch [77/100]: 100%|██████████| 31/31 [00:00<00:00, 620.74it/s, acc=0.333, loss=0.0216]\n",
      "Epoch [78/100]: 100%|██████████| 31/31 [00:00<00:00, 584.53it/s, acc=0.333, loss=0.00977]\n",
      "Epoch [79/100]: 100%|██████████| 31/31 [00:00<00:00, 571.59it/s, acc=0.333, loss=0.0228]\n",
      "Epoch [80/100]: 100%|██████████| 31/31 [00:00<00:00, 558.05it/s, acc=0.333, loss=0.0268]\n",
      "Epoch [81/100]: 100%|██████████| 31/31 [00:00<00:00, 596.12it/s, acc=0.333, loss=0.0868]\n",
      "Epoch [82/100]: 100%|██████████| 31/31 [00:00<00:00, 605.21it/s, acc=0.25, loss=0.369]\n",
      "Epoch [83/100]: 100%|██████████| 31/31 [00:00<00:00, 588.35it/s, acc=0.333, loss=0.146]\n",
      "Epoch [84/100]: 100%|██████████| 31/31 [00:00<00:00, 612.84it/s, acc=0.333, loss=0.137]\n",
      "Epoch [85/100]: 100%|██████████| 31/31 [00:00<00:00, 580.59it/s, acc=0.333, loss=0.123]\n",
      "Epoch [86/100]: 100%|██████████| 31/31 [00:00<00:00, 584.24it/s, acc=0.333, loss=0.00871]\n",
      "Epoch [87/100]: 100%|██████████| 31/31 [00:00<00:00, 603.11it/s, acc=0.333, loss=0.0136]\n",
      "Epoch [88/100]: 100%|██████████| 31/31 [00:00<00:00, 593.37it/s, acc=0.333, loss=0.016]\n",
      "Epoch [89/100]: 100%|██████████| 31/31 [00:00<00:00, 603.17it/s, acc=0.333, loss=0.0102]\n",
      "Epoch [90/100]: 100%|██████████| 31/31 [00:00<00:00, 460.36it/s, acc=0.333, loss=0.0107]\n",
      "Epoch [91/100]: 100%|██████████| 31/31 [00:00<00:00, 608.67it/s, acc=0.333, loss=0.0109]\n",
      "Epoch [92/100]: 100%|██████████| 31/31 [00:00<00:00, 605.41it/s, acc=0.333, loss=0.0141]\n",
      "Epoch [93/100]: 100%|██████████| 31/31 [00:00<00:00, 623.29it/s, acc=0.333, loss=0.00953]\n",
      "Epoch [94/100]: 100%|██████████| 31/31 [00:00<00:00, 599.89it/s, acc=0.333, loss=0.00854]\n",
      "Epoch [95/100]: 100%|██████████| 31/31 [00:00<00:00, 605.69it/s, acc=0.333, loss=0.0082]\n",
      "Epoch [96/100]: 100%|██████████| 31/31 [00:00<00:00, 619.33it/s, acc=0.333, loss=0.00765]\n",
      "Epoch [97/100]: 100%|██████████| 31/31 [00:00<00:00, 593.36it/s, acc=0.333, loss=0.00759]\n",
      "Epoch [98/100]: 100%|██████████| 31/31 [00:00<00:00, 612.22it/s, acc=0.333, loss=0.00754]\n",
      "Epoch [99/100]: 100%|██████████| 31/31 [00:00<00:00, 599.89it/s, acc=0.333, loss=0.00777]\n"
     ]
    }
   ],
   "execution_count": 153
  },
  {
   "metadata": {
    "ExecuteTime": {
     "end_time": "2024-12-18T02:22:29.258382Z",
     "start_time": "2024-12-18T02:22:29.252824Z"
    }
   },
   "cell_type": "code",
   "source": [
    "test_features = torch.from_numpy(X_test.astype(np.float32))\n",
    "test_labels = y_test\n",
    "with torch.no_grad():\n",
    "    outputs = model(test_features)\n",
    "    _, predictions = torch.max(outputs, 1)\n",
    "predictions"
   ],
   "id": "c59139e6113fff04",
   "outputs": [
    {
     "data": {
      "text/plain": [
       "tensor([1, 0, 0, 1, 0, 1, 1, 1, 1, 0, 1, 1, 1, 1, 1, 1, 1, 1, 0, 1, 1, 0, 1, 1,\n",
       "        1, 1, 1, 1, 0, 0, 1, 1, 1, 0, 1, 1, 1, 1, 0, 0, 1, 1, 1, 1, 1, 0, 0, 0,\n",
       "        1, 0, 1, 0, 0, 0, 0, 0, 1, 1, 0, 0, 0, 1, 0, 0, 1, 0, 1, 1, 1, 1, 0, 1,\n",
       "        1, 1, 1, 1, 1, 1, 1, 0, 1, 0, 1, 1, 1, 1, 0, 1, 0, 1, 1])"
      ]
     },
     "execution_count": 154,
     "metadata": {},
     "output_type": "execute_result"
    }
   ],
   "execution_count": 154
  },
  {
   "metadata": {
    "ExecuteTime": {
     "end_time": "2024-12-18T02:22:29.375050Z",
     "start_time": "2024-12-18T02:22:29.369708Z"
    }
   },
   "cell_type": "code",
   "source": "print(classification_report(test_labels, predictions, target_names=encoder.classes_))",
   "id": "a297a627bb4a46b3",
   "outputs": [
    {
     "name": "stdout",
     "output_type": "stream",
     "text": [
      "              precision    recall  f1-score   support\n",
      "\n",
      "        fine       0.81      0.76      0.78        33\n",
      "    needhelp       0.87      0.90      0.88        58\n",
      "\n",
      "    accuracy                           0.85        91\n",
      "   macro avg       0.84      0.83      0.83        91\n",
      "weighted avg       0.84      0.85      0.85        91\n",
      "\n"
     ]
    }
   ],
   "execution_count": 155
  },
  {
   "metadata": {
    "ExecuteTime": {
     "end_time": "2024-12-18T02:22:29.582343Z",
     "start_time": "2024-12-18T02:22:29.577976Z"
    }
   },
   "cell_type": "code",
   "source": [
    "PATH_SAVE = '../../../../../data/weights/yolo_pose_nnClassifier/pose_classification_v3.pt'\n",
    "torch.save(model.state_dict(), PATH_SAVE)"
   ],
   "id": "a9eb43dbed22ed94",
   "outputs": [],
   "execution_count": 156
  },
  {
   "metadata": {
    "ExecuteTime": {
     "end_time": "2024-12-18T02:22:29.649758Z",
     "start_time": "2024-12-18T02:22:29.640932Z"
    }
   },
   "cell_type": "code",
   "source": [
    "model_inference =  NeuralNet(\n",
    "        X_train.shape[1], \n",
    "        hidden_size, \n",
    "        len(class_weights)\n",
    "    )\n",
    "\n",
    "model_inference.load_state_dict(\n",
    "        torch.load(PATH_SAVE, map_location=device)\n",
    "    )"
   ],
   "id": "c8c954843d211411",
   "outputs": [
    {
     "name": "stderr",
     "output_type": "stream",
     "text": [
      "/var/folders/f6/cqgl3gc517zb0rzw3ms24b9r0000gn/T/ipykernel_86703/1259055062.py:8: FutureWarning: You are using `torch.load` with `weights_only=False` (the current default value), which uses the default pickle module implicitly. It is possible to construct malicious pickle data which will execute arbitrary code during unpickling (See https://github.com/pytorch/pytorch/blob/main/SECURITY.md#untrusted-models for more details). In a future release, the default value for `weights_only` will be flipped to `True`. This limits the functions that could be executed during unpickling. Arbitrary objects will no longer be allowed to be loaded via this mode unless they are explicitly allowlisted by the user via `torch.serialization.add_safe_globals`. We recommend you start setting `weights_only=True` for any use case where you don't have full control of the loaded file. Please open an issue on GitHub for any issues related to this experimental feature.\n",
      "  torch.load(PATH_SAVE, map_location=device)\n"
     ]
    },
    {
     "data": {
      "text/plain": [
       "<All keys matched successfully>"
      ]
     },
     "execution_count": 157,
     "metadata": {},
     "output_type": "execute_result"
    }
   ],
   "execution_count": 157
  },
  {
   "metadata": {
    "ExecuteTime": {
     "end_time": "2024-12-18T02:22:29.712692Z",
     "start_time": "2024-12-18T02:22:29.707155Z"
    }
   },
   "cell_type": "code",
   "source": [
    "feature, label = test_dataset.__getitem__(69)\n",
    "\n",
    "out = model_inference(feature)\n",
    "_, predict = torch.max(out, -1)\n",
    "print(f'\\\n",
    "    prediction label : {encoder.classes_[predict]} \\n\\\n",
    "    ground thrut label : {encoder.classes_[label]}'\n",
    "    )"
   ],
   "id": "f0ef08ecb91de930",
   "outputs": [
    {
     "name": "stdout",
     "output_type": "stream",
     "text": [
      "    prediction label : needhelp \n",
      "    ground thrut label : needhelp\n"
     ]
    }
   ],
   "execution_count": 158
  }
 ],
 "metadata": {
  "kernelspec": {
   "display_name": "Python 3",
   "language": "python",
   "name": "python3"
  },
  "language_info": {
   "codemirror_mode": {
    "name": "ipython",
    "version": 2
   },
   "file_extension": ".py",
   "mimetype": "text/x-python",
   "name": "python",
   "nbconvert_exporter": "python",
   "pygments_lexer": "ipython2",
   "version": "2.7.6"
  }
 },
 "nbformat": 4,
 "nbformat_minor": 5
}
