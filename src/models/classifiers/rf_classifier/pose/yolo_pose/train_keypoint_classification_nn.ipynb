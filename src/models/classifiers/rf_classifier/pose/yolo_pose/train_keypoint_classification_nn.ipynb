{
 "cells": [
  {
   "cell_type": "code",
   "id": "initial_id",
   "metadata": {
    "collapsed": true,
    "ExecuteTime": {
     "end_time": "2024-12-15T15:19:57.201047Z",
     "start_time": "2024-12-15T15:19:55.709042Z"
    }
   },
   "source": [
    "import numpy as np\n",
    "import pandas as pd\n",
    "from tqdm import tqdm\n",
    "import matplotlib.pyplot as plt\n",
    "\n",
    "from sklearn.preprocessing import LabelEncoder, MinMaxScaler\n",
    "from sklearn.utils.class_weight import compute_class_weight\n",
    "from sklearn.model_selection import train_test_split\n",
    "from sklearn.metrics import classification_report, confusion_matrix\n",
    "\n",
    "import torch\n",
    "from torch import nn\n",
    "from torch.utils.data import Dataset, DataLoader, SubsetRandomSampler\n",
    "\n",
    "device = torch.device(\"mps\" if torch.mps.is_available() else \"cpu\")"
   ],
   "outputs": [],
   "execution_count": 1
  },
  {
   "metadata": {
    "ExecuteTime": {
     "end_time": "2024-12-15T15:19:58.497783Z",
     "start_time": "2024-12-15T15:19:58.480508Z"
    }
   },
   "cell_type": "code",
   "source": [
    "df = pd.read_csv('fall_pose_keypoint.csv')\n",
    "df.head()"
   ],
   "id": "ced979c5220eaf2f",
   "outputs": [
    {
     "data": {
      "text/plain": [
       "                                          image_name     label    nose_x  \\\n",
       "0  depositphotos_245876718-stock-photo-senior-man...  not-fall  0.485839   \n",
       "1                                  download (5).jpeg  not-fall  0.000000   \n",
       "2  man-sitting-on-floor-next-to-couch-dirtier-tha...  not-fall  0.607777   \n",
       "3                                           3008.jpg  not-fall  0.597149   \n",
       "4                                           3020.jpg  not-fall  0.320964   \n",
       "\n",
       "     nose_y  left_eye_x  left_eye_y  right_eye_x  right_eye_y  left_ear_x  \\\n",
       "0  0.410512    0.495773    0.394320     0.477423     0.389139    0.508761   \n",
       "1  0.000000    0.000000    0.000000     0.000000     0.000000    0.598155   \n",
       "2  0.382062    0.630249    0.331423     0.585865     0.330294    0.668024   \n",
       "3  0.269850    0.640758    0.237419     0.592207     0.213645    0.726758   \n",
       "4  0.260311    0.333139    0.227619     0.298050     0.230738    0.000000   \n",
       "\n",
       "   left_ear_y  ...  right_hip_x  right_hip_y  left_knee_x  left_knee_y  \\\n",
       "0    0.388049  ...     0.436837     0.600978     0.512779     0.606168   \n",
       "1    0.194260  ...     0.630579     0.438007     0.598843     0.579984   \n",
       "2    0.313463  ...     0.540982     0.965722     0.000000     0.000000   \n",
       "3    0.251189  ...     0.603001     0.865304     0.000000     0.000000   \n",
       "4    0.000000  ...     0.253200     0.676568     0.510862     0.631657   \n",
       "\n",
       "   right_knee_x  right_knee_y  left_ankle_x  left_ankle_y  right_ankle_x  \\\n",
       "0      0.414417      0.604592      0.465867      0.797919       0.399739   \n",
       "1      0.629291      0.577627      0.610139      0.726956       0.633059   \n",
       "2      0.000000      0.000000      0.000000      0.000000       0.000000   \n",
       "3      0.000000      0.000000      0.000000      0.000000       0.000000   \n",
       "4      0.313992      0.694880      0.408492      0.859661       0.215078   \n",
       "\n",
       "   right_ankle_y  \n",
       "0       0.786769  \n",
       "1       0.714906  \n",
       "2       0.000000  \n",
       "3       0.000000  \n",
       "4       0.917820  \n",
       "\n",
       "[5 rows x 36 columns]"
      ],
      "text/html": [
       "<div>\n",
       "<style scoped>\n",
       "    .dataframe tbody tr th:only-of-type {\n",
       "        vertical-align: middle;\n",
       "    }\n",
       "\n",
       "    .dataframe tbody tr th {\n",
       "        vertical-align: top;\n",
       "    }\n",
       "\n",
       "    .dataframe thead th {\n",
       "        text-align: right;\n",
       "    }\n",
       "</style>\n",
       "<table border=\"1\" class=\"dataframe\">\n",
       "  <thead>\n",
       "    <tr style=\"text-align: right;\">\n",
       "      <th></th>\n",
       "      <th>image_name</th>\n",
       "      <th>label</th>\n",
       "      <th>nose_x</th>\n",
       "      <th>nose_y</th>\n",
       "      <th>left_eye_x</th>\n",
       "      <th>left_eye_y</th>\n",
       "      <th>right_eye_x</th>\n",
       "      <th>right_eye_y</th>\n",
       "      <th>left_ear_x</th>\n",
       "      <th>left_ear_y</th>\n",
       "      <th>...</th>\n",
       "      <th>right_hip_x</th>\n",
       "      <th>right_hip_y</th>\n",
       "      <th>left_knee_x</th>\n",
       "      <th>left_knee_y</th>\n",
       "      <th>right_knee_x</th>\n",
       "      <th>right_knee_y</th>\n",
       "      <th>left_ankle_x</th>\n",
       "      <th>left_ankle_y</th>\n",
       "      <th>right_ankle_x</th>\n",
       "      <th>right_ankle_y</th>\n",
       "    </tr>\n",
       "  </thead>\n",
       "  <tbody>\n",
       "    <tr>\n",
       "      <th>0</th>\n",
       "      <td>depositphotos_245876718-stock-photo-senior-man...</td>\n",
       "      <td>not-fall</td>\n",
       "      <td>0.485839</td>\n",
       "      <td>0.410512</td>\n",
       "      <td>0.495773</td>\n",
       "      <td>0.394320</td>\n",
       "      <td>0.477423</td>\n",
       "      <td>0.389139</td>\n",
       "      <td>0.508761</td>\n",
       "      <td>0.388049</td>\n",
       "      <td>...</td>\n",
       "      <td>0.436837</td>\n",
       "      <td>0.600978</td>\n",
       "      <td>0.512779</td>\n",
       "      <td>0.606168</td>\n",
       "      <td>0.414417</td>\n",
       "      <td>0.604592</td>\n",
       "      <td>0.465867</td>\n",
       "      <td>0.797919</td>\n",
       "      <td>0.399739</td>\n",
       "      <td>0.786769</td>\n",
       "    </tr>\n",
       "    <tr>\n",
       "      <th>1</th>\n",
       "      <td>download (5).jpeg</td>\n",
       "      <td>not-fall</td>\n",
       "      <td>0.000000</td>\n",
       "      <td>0.000000</td>\n",
       "      <td>0.000000</td>\n",
       "      <td>0.000000</td>\n",
       "      <td>0.000000</td>\n",
       "      <td>0.000000</td>\n",
       "      <td>0.598155</td>\n",
       "      <td>0.194260</td>\n",
       "      <td>...</td>\n",
       "      <td>0.630579</td>\n",
       "      <td>0.438007</td>\n",
       "      <td>0.598843</td>\n",
       "      <td>0.579984</td>\n",
       "      <td>0.629291</td>\n",
       "      <td>0.577627</td>\n",
       "      <td>0.610139</td>\n",
       "      <td>0.726956</td>\n",
       "      <td>0.633059</td>\n",
       "      <td>0.714906</td>\n",
       "    </tr>\n",
       "    <tr>\n",
       "      <th>2</th>\n",
       "      <td>man-sitting-on-floor-next-to-couch-dirtier-tha...</td>\n",
       "      <td>not-fall</td>\n",
       "      <td>0.607777</td>\n",
       "      <td>0.382062</td>\n",
       "      <td>0.630249</td>\n",
       "      <td>0.331423</td>\n",
       "      <td>0.585865</td>\n",
       "      <td>0.330294</td>\n",
       "      <td>0.668024</td>\n",
       "      <td>0.313463</td>\n",
       "      <td>...</td>\n",
       "      <td>0.540982</td>\n",
       "      <td>0.965722</td>\n",
       "      <td>0.000000</td>\n",
       "      <td>0.000000</td>\n",
       "      <td>0.000000</td>\n",
       "      <td>0.000000</td>\n",
       "      <td>0.000000</td>\n",
       "      <td>0.000000</td>\n",
       "      <td>0.000000</td>\n",
       "      <td>0.000000</td>\n",
       "    </tr>\n",
       "    <tr>\n",
       "      <th>3</th>\n",
       "      <td>3008.jpg</td>\n",
       "      <td>not-fall</td>\n",
       "      <td>0.597149</td>\n",
       "      <td>0.269850</td>\n",
       "      <td>0.640758</td>\n",
       "      <td>0.237419</td>\n",
       "      <td>0.592207</td>\n",
       "      <td>0.213645</td>\n",
       "      <td>0.726758</td>\n",
       "      <td>0.251189</td>\n",
       "      <td>...</td>\n",
       "      <td>0.603001</td>\n",
       "      <td>0.865304</td>\n",
       "      <td>0.000000</td>\n",
       "      <td>0.000000</td>\n",
       "      <td>0.000000</td>\n",
       "      <td>0.000000</td>\n",
       "      <td>0.000000</td>\n",
       "      <td>0.000000</td>\n",
       "      <td>0.000000</td>\n",
       "      <td>0.000000</td>\n",
       "    </tr>\n",
       "    <tr>\n",
       "      <th>4</th>\n",
       "      <td>3020.jpg</td>\n",
       "      <td>not-fall</td>\n",
       "      <td>0.320964</td>\n",
       "      <td>0.260311</td>\n",
       "      <td>0.333139</td>\n",
       "      <td>0.227619</td>\n",
       "      <td>0.298050</td>\n",
       "      <td>0.230738</td>\n",
       "      <td>0.000000</td>\n",
       "      <td>0.000000</td>\n",
       "      <td>...</td>\n",
       "      <td>0.253200</td>\n",
       "      <td>0.676568</td>\n",
       "      <td>0.510862</td>\n",
       "      <td>0.631657</td>\n",
       "      <td>0.313992</td>\n",
       "      <td>0.694880</td>\n",
       "      <td>0.408492</td>\n",
       "      <td>0.859661</td>\n",
       "      <td>0.215078</td>\n",
       "      <td>0.917820</td>\n",
       "    </tr>\n",
       "  </tbody>\n",
       "</table>\n",
       "<p>5 rows × 36 columns</p>\n",
       "</div>"
      ]
     },
     "execution_count": 2,
     "metadata": {},
     "output_type": "execute_result"
    }
   ],
   "execution_count": 2
  },
  {
   "metadata": {
    "ExecuteTime": {
     "end_time": "2024-12-15T15:20:21.167607Z",
     "start_time": "2024-12-15T15:20:21.157772Z"
    }
   },
   "cell_type": "code",
   "source": "df.info()",
   "id": "24bf5721ac4909cf",
   "outputs": [
    {
     "name": "stdout",
     "output_type": "stream",
     "text": [
      "<class 'pandas.core.frame.DataFrame'>\n",
      "RangeIndex: 546 entries, 0 to 545\n",
      "Data columns (total 36 columns):\n",
      " #   Column            Non-Null Count  Dtype  \n",
      "---  ------            --------------  -----  \n",
      " 0   image_name        546 non-null    object \n",
      " 1   label             546 non-null    object \n",
      " 2   nose_x            546 non-null    float64\n",
      " 3   nose_y            546 non-null    float64\n",
      " 4   left_eye_x        546 non-null    float64\n",
      " 5   left_eye_y        546 non-null    float64\n",
      " 6   right_eye_x       546 non-null    float64\n",
      " 7   right_eye_y       546 non-null    float64\n",
      " 8   left_ear_x        546 non-null    float64\n",
      " 9   left_ear_y        546 non-null    float64\n",
      " 10  right_ear_x       546 non-null    float64\n",
      " 11  right_ear_y       546 non-null    float64\n",
      " 12  left_shoulder_x   546 non-null    float64\n",
      " 13  left_shoulder_y   546 non-null    float64\n",
      " 14  right_shoulder_x  546 non-null    float64\n",
      " 15  right_shoulder_y  546 non-null    float64\n",
      " 16  left_elbow_x      546 non-null    float64\n",
      " 17  left_elbow_y      546 non-null    float64\n",
      " 18  right_elbow_x     546 non-null    float64\n",
      " 19  right_elbow_y     546 non-null    float64\n",
      " 20  left_wrist_x      546 non-null    float64\n",
      " 21  left_wrist_y      546 non-null    float64\n",
      " 22  right_wrist_x     546 non-null    float64\n",
      " 23  right_wrist_y     546 non-null    float64\n",
      " 24  left_hip_x        546 non-null    float64\n",
      " 25  left_hip_y        546 non-null    float64\n",
      " 26  right_hip_x       546 non-null    float64\n",
      " 27  right_hip_y       546 non-null    float64\n",
      " 28  left_knee_x       546 non-null    float64\n",
      " 29  left_knee_y       546 non-null    float64\n",
      " 30  right_knee_x      546 non-null    float64\n",
      " 31  right_knee_y      546 non-null    float64\n",
      " 32  left_ankle_x      546 non-null    float64\n",
      " 33  left_ankle_y      546 non-null    float64\n",
      " 34  right_ankle_x     546 non-null    float64\n",
      " 35  right_ankle_y     546 non-null    float64\n",
      "dtypes: float64(34), object(2)\n",
      "memory usage: 153.7+ KB\n"
     ]
    }
   ],
   "execution_count": 3
  },
  {
   "metadata": {
    "ExecuteTime": {
     "end_time": "2024-12-15T15:20:44.852378Z",
     "start_time": "2024-12-15T15:20:44.757234Z"
    }
   },
   "cell_type": "code",
   "source": [
    "df.label.value_counts().plot(kind=\"bar\")\n",
    "plt.xticks(rotation=45)\n",
    "plt.show()"
   ],
   "id": "c020b5bb64a3b4c6",
   "outputs": [
    {
     "data": {
      "text/plain": [
       "<Figure size 640x480 with 1 Axes>"
      ],
      "image/png": "[encoded data removed]"
     },
     "metadata": {},
     "output_type": "display_data"
    }
   ],
   "execution_count": 4
  },
  {
   "metadata": {
    "ExecuteTime": {
     "end_time": "2024-12-15T15:21:08.104534Z",
     "start_time": "2024-12-15T15:21:08.099645Z"
    }
   },
   "cell_type": "code",
   "source": [
    "encoder = LabelEncoder()\n",
    "y_label = df['label']\n",
    "y = encoder.fit_transform(y_label)\n",
    "y"
   ],
   "id": "7341c3b67daa540c",
   "outputs": [
    {
     "data": {
      "text/plain": [
       "array([1, 1, 1, 1, 1, 1, 1, 1, 1, 1, 1, 1, 1, 1, 1, 1, 1, 1, 1, 1, 1, 1,\n",
       "       1, 1, 1, 1, 1, 1, 1, 1, 1, 1, 1, 1, 1, 1, 1, 1, 1, 1, 1, 1, 1, 1,\n",
       "       1, 1, 1, 1, 1, 1, 1, 1, 1, 1, 1, 1, 1, 1, 1, 1, 1, 1, 1, 1, 1, 1,\n",
       "       1, 1, 1, 1, 1, 1, 1, 1, 1, 1, 1, 1, 1, 1, 1, 1, 1, 1, 1, 1, 1, 1,\n",
       "       1, 1, 1, 1, 1, 1, 1, 1, 1, 1, 1, 1, 1, 1, 1, 1, 1, 1, 1, 1, 1, 1,\n",
       "       1, 1, 1, 1, 1, 1, 1, 1, 1, 1, 1, 1, 1, 1, 1, 1, 1, 1, 1, 1, 1, 1,\n",
       "       1, 1, 1, 1, 1, 1, 1, 1, 1, 1, 1, 1, 1, 1, 1, 1, 1, 1, 1, 1, 1, 1,\n",
       "       1, 1, 1, 1, 1, 1, 1, 1, 1, 1, 1, 1, 1, 1, 1, 1, 1, 1, 1, 1, 1, 1,\n",
       "       1, 1, 1, 1, 1, 1, 1, 1, 1, 1, 1, 1, 1, 1, 1, 1, 1, 1, 1, 1, 1, 1,\n",
       "       1, 1, 1, 1, 1, 1, 1, 1, 1, 1, 1, 1, 1, 1, 1, 1, 1, 1, 1, 1, 1, 1,\n",
       "       1, 1, 1, 1, 1, 1, 1, 1, 1, 1, 1, 1, 1, 0, 0, 0, 0, 0, 0, 0, 0, 0,\n",
       "       0, 0, 0, 0, 0, 0, 0, 0, 0, 0, 0, 0, 0, 0, 0, 0, 0, 0, 0, 0, 0, 0,\n",
       "       0, 0, 0, 0, 0, 0, 0, 0, 0, 0, 0, 0, 0, 0, 0, 0, 0, 0, 0, 0, 0, 0,\n",
       "       0, 0, 0, 0, 0, 0, 0, 0, 0, 0, 0, 0, 0, 0, 0, 0, 0, 0, 0, 0, 0, 0,\n",
       "       0, 0, 0, 0, 0, 0, 0, 0, 0, 0, 0, 0, 0, 0, 0, 0, 0, 0, 0, 0, 0, 0,\n",
       "       0, 0, 0, 0, 0, 0, 0, 0, 0, 0, 0, 0, 0, 0, 0, 0, 0, 0, 0, 0, 0, 0,\n",
       "       0, 0, 0, 0, 0, 0, 0, 0, 0, 0, 0, 0, 0, 0, 0, 0, 0, 0, 0, 0, 0, 0,\n",
       "       0, 0, 0, 0, 0, 0, 0, 0, 0, 0, 0, 0, 0, 0, 0, 0, 0, 0, 0, 0, 0, 0,\n",
       "       0, 0, 0, 0, 0, 0, 0, 0, 0, 0, 0, 0, 0, 0, 0, 0, 0, 0, 0, 0, 0, 0,\n",
       "       0, 0, 0, 0, 0, 0, 0, 0, 0, 0, 0, 0, 0, 0, 0, 0, 0, 0, 0, 0, 0, 0,\n",
       "       0, 0, 0, 0, 0, 0, 0, 0, 0, 0, 0, 0, 0, 0, 0, 0, 0, 0, 0, 0, 0, 0,\n",
       "       0, 0, 0, 0, 0, 0, 0, 0, 0, 0, 0, 0, 0, 0, 0, 0, 0, 0, 0, 0, 0, 0,\n",
       "       0, 0, 0, 0, 0, 0, 0, 0, 0, 0, 0, 0, 0, 0, 0, 0, 0, 0, 0, 0, 0, 0,\n",
       "       0, 0, 0, 0, 0, 0, 0, 0, 0, 0, 0, 0, 0, 0, 0, 0, 0, 0, 0, 0, 0, 0,\n",
       "       0, 0, 0, 0, 0, 0, 0, 0, 0, 0, 0, 0, 0, 0, 0, 0, 0, 0])"
      ]
     },
     "execution_count": 5,
     "metadata": {},
     "output_type": "execute_result"
    }
   ],
   "execution_count": 5
  },
  {
   "metadata": {
    "ExecuteTime": {
     "end_time": "2024-12-15T15:21:34.804918Z",
     "start_time": "2024-12-15T15:21:34.799443Z"
    }
   },
   "cell_type": "code",
   "source": [
    "class_weights = compute_class_weight(class_weight='balanced', classes=np.unique(y), y=y)\n",
    "class_weights"
   ],
   "id": "a7c537d268bd507a",
   "outputs": [
    {
     "data": {
      "text/plain": [
       "array([0.87220447, 1.17167382])"
      ]
     },
     "execution_count": 6,
     "metadata": {},
     "output_type": "execute_result"
    }
   ],
   "execution_count": 6
  },
  {
   "metadata": {
    "ExecuteTime": {
     "end_time": "2024-12-15T15:27:31.756922Z",
     "start_time": "2024-12-15T15:27:31.736537Z"
    }
   },
   "cell_type": "code",
   "source": [
    "X = df.iloc[:,12:]\n",
    "X"
   ],
   "id": "f95b252c5c5d5967",
   "outputs": [
    {
     "data": {
      "text/plain": [
       "     left_shoulder_x  left_shoulder_y  right_shoulder_x  right_shoulder_y  \\\n",
       "0           0.534824         0.444538          0.423839          0.436997   \n",
       "1           0.585692         0.265534          0.636859          0.259358   \n",
       "2           0.736637         0.498279          0.490937          0.514325   \n",
       "3           0.799819         0.394216          0.537067          0.384085   \n",
       "4           0.377460         0.300484          0.197641          0.357846   \n",
       "..               ...              ...               ...               ...   \n",
       "541         0.485192         0.822922          0.392715          0.828087   \n",
       "542         0.583668         0.520447          0.532959          0.558943   \n",
       "543         0.419663         0.652873          0.373191          0.641693   \n",
       "544         0.662146         0.645872          0.674073          0.619589   \n",
       "545         0.358667         0.387993          0.364883          0.374371   \n",
       "\n",
       "     left_elbow_x  left_elbow_y  right_elbow_x  right_elbow_y  left_wrist_x  \\\n",
       "0        0.546437      0.539332       0.401373       0.537893      0.516947   \n",
       "1        0.559001      0.358133       0.669974       0.347982      0.542718   \n",
       "2        0.795259      0.789487       0.438259       0.824723      0.748976   \n",
       "3        0.839693      0.728650       0.493323       0.699068      0.671273   \n",
       "4        0.470625      0.302354       0.179517       0.542965      0.599963   \n",
       "..            ...           ...            ...            ...           ...   \n",
       "541      0.627415      0.945913       0.000000       0.000000      0.556014   \n",
       "542      0.592275      0.525042       0.511910       0.604531      0.550360   \n",
       "543      0.444414      0.699178       0.369516       0.681932      0.486647   \n",
       "544      0.560790      0.740320       0.573328       0.704465      0.472588   \n",
       "545      0.437247      0.447199       0.396598       0.426246      0.451408   \n",
       "\n",
       "     left_wrist_y  ...  right_hip_x  right_hip_y  left_knee_x  left_knee_y  \\\n",
       "0        0.566562  ...     0.436837     0.600978     0.512779     0.606168   \n",
       "1        0.438788  ...     0.630579     0.438007     0.598843     0.579984   \n",
       "2        0.879148  ...     0.540982     0.965722     0.000000     0.000000   \n",
       "3        0.815322  ...     0.603001     0.865304     0.000000     0.000000   \n",
       "4        0.303633  ...     0.253200     0.676568     0.510862     0.631657   \n",
       "..            ...  ...          ...          ...          ...          ...   \n",
       "541      0.851447  ...     0.000000     0.000000     0.000000     0.000000   \n",
       "542      0.520461  ...     0.540486     0.681675     0.515760     0.663084   \n",
       "543      0.667621  ...     0.362456     0.725952     0.484129     0.755268   \n",
       "544      0.851524  ...     0.443808     0.632817     0.291611     0.488406   \n",
       "545      0.573994  ...     0.504222     0.351500     0.555048     0.389548   \n",
       "\n",
       "     right_knee_x  right_knee_y  left_ankle_x  left_ankle_y  right_ankle_x  \\\n",
       "0        0.414417      0.604592      0.465867      0.797919       0.399739   \n",
       "1        0.629291      0.577627      0.610139      0.726956       0.633059   \n",
       "2        0.000000      0.000000      0.000000      0.000000       0.000000   \n",
       "3        0.000000      0.000000      0.000000      0.000000       0.000000   \n",
       "4        0.313992      0.694880      0.408492      0.859661       0.215078   \n",
       "..            ...           ...           ...           ...            ...   \n",
       "541      0.000000      0.000000      0.000000      0.000000       0.000000   \n",
       "542      0.458586      0.670943      0.435092      0.745804       0.362407   \n",
       "543      0.370119      0.770864      0.458609      0.866820       0.284128   \n",
       "544      0.279879      0.460175      0.234313      0.579899       0.223537   \n",
       "545      0.551565      0.369922      0.670762      0.460954       0.651599   \n",
       "\n",
       "     right_ankle_y  \n",
       "0         0.786769  \n",
       "1         0.714906  \n",
       "2         0.000000  \n",
       "3         0.000000  \n",
       "4         0.917820  \n",
       "..             ...  \n",
       "541       0.000000  \n",
       "542       0.748630  \n",
       "543       0.897199  \n",
       "544       0.538695  \n",
       "545       0.414906  \n",
       "\n",
       "[546 rows x 24 columns]"
      ],
      "text/html": [
       "<div>\n",
       "<style scoped>\n",
       "    .dataframe tbody tr th:only-of-type {\n",
       "        vertical-align: middle;\n",
       "    }\n",
       "\n",
       "    .dataframe tbody tr th {\n",
       "        vertical-align: top;\n",
       "    }\n",
       "\n",
       "    .dataframe thead th {\n",
       "        text-align: right;\n",
       "    }\n",
       "</style>\n",
       "<table border=\"1\" class=\"dataframe\">\n",
       "  <thead>\n",
       "    <tr style=\"text-align: right;\">\n",
       "      <th></th>\n",
       "      <th>left_shoulder_x</th>\n",
       "      <th>left_shoulder_y</th>\n",
       "      <th>right_shoulder_x</th>\n",
       "      <th>right_shoulder_y</th>\n",
       "      <th>left_elbow_x</th>\n",
       "      <th>left_elbow_y</th>\n",
       "      <th>right_elbow_x</th>\n",
       "      <th>right_elbow_y</th>\n",
       "      <th>left_wrist_x</th>\n",
       "      <th>left_wrist_y</th>\n",
       "      <th>...</th>\n",
       "      <th>right_hip_x</th>\n",
       "      <th>right_hip_y</th>\n",
       "      <th>left_knee_x</th>\n",
       "      <th>left_knee_y</th>\n",
       "      <th>right_knee_x</th>\n",
       "      <th>right_knee_y</th>\n",
       "      <th>left_ankle_x</th>\n",
       "      <th>left_ankle_y</th>\n",
       "      <th>right_ankle_x</th>\n",
       "      <th>right_ankle_y</th>\n",
       "    </tr>\n",
       "  </thead>\n",
       "  <tbody>\n",
       "    <tr>\n",
       "      <th>0</th>\n",
       "      <td>0.534824</td>\n",
       "      <td>0.444538</td>\n",
       "      <td>0.423839</td>\n",
       "      <td>0.436997</td>\n",
       "      <td>0.546437</td>\n",
       "      <td>0.539332</td>\n",
       "      <td>0.401373</td>\n",
       "      <td>0.537893</td>\n",
       "      <td>0.516947</td>\n",
       "      <td>0.566562</td>\n",
       "      <td>...</td>\n",
       "      <td>0.436837</td>\n",
       "      <td>0.600978</td>\n",
       "      <td>0.512779</td>\n",
       "      <td>0.606168</td>\n",
       "      <td>0.414417</td>\n",
       "      <td>0.604592</td>\n",
       "      <td>0.465867</td>\n",
       "      <td>0.797919</td>\n",
       "      <td>0.399739</td>\n",
       "      <td>0.786769</td>\n",
       "    </tr>\n",
       "    <tr>\n",
       "      <th>1</th>\n",
       "      <td>0.585692</td>\n",
       "      <td>0.265534</td>\n",
       "      <td>0.636859</td>\n",
       "      <td>0.259358</td>\n",
       "      <td>0.559001</td>\n",
       "      <td>0.358133</td>\n",
       "      <td>0.669974</td>\n",
       "      <td>0.347982</td>\n",
       "      <td>0.542718</td>\n",
       "      <td>0.438788</td>\n",
       "      <td>...</td>\n",
       "      <td>0.630579</td>\n",
       "      <td>0.438007</td>\n",
       "      <td>0.598843</td>\n",
       "      <td>0.579984</td>\n",
       "      <td>0.629291</td>\n",
       "      <td>0.577627</td>\n",
       "      <td>0.610139</td>\n",
       "      <td>0.726956</td>\n",
       "      <td>0.633059</td>\n",
       "      <td>0.714906</td>\n",
       "    </tr>\n",
       "    <tr>\n",
       "      <th>2</th>\n",
       "      <td>0.736637</td>\n",
       "      <td>0.498279</td>\n",
       "      <td>0.490937</td>\n",
       "      <td>0.514325</td>\n",
       "      <td>0.795259</td>\n",
       "      <td>0.789487</td>\n",
       "      <td>0.438259</td>\n",
       "      <td>0.824723</td>\n",
       "      <td>0.748976</td>\n",
       "      <td>0.879148</td>\n",
       "      <td>...</td>\n",
       "      <td>0.540982</td>\n",
       "      <td>0.965722</td>\n",
       "      <td>0.000000</td>\n",
       "      <td>0.000000</td>\n",
       "      <td>0.000000</td>\n",
       "      <td>0.000000</td>\n",
       "      <td>0.000000</td>\n",
       "      <td>0.000000</td>\n",
       "      <td>0.000000</td>\n",
       "      <td>0.000000</td>\n",
       "    </tr>\n",
       "    <tr>\n",
       "      <th>3</th>\n",
       "      <td>0.799819</td>\n",
       "      <td>0.394216</td>\n",
       "      <td>0.537067</td>\n",
       "      <td>0.384085</td>\n",
       "      <td>0.839693</td>\n",
       "      <td>0.728650</td>\n",
       "      <td>0.493323</td>\n",
       "      <td>0.699068</td>\n",
       "      <td>0.671273</td>\n",
       "      <td>0.815322</td>\n",
       "      <td>...</td>\n",
       "      <td>0.603001</td>\n",
       "      <td>0.865304</td>\n",
       "      <td>0.000000</td>\n",
       "      <td>0.000000</td>\n",
       "      <td>0.000000</td>\n",
       "      <td>0.000000</td>\n",
       "      <td>0.000000</td>\n",
       "      <td>0.000000</td>\n",
       "      <td>0.000000</td>\n",
       "      <td>0.000000</td>\n",
       "    </tr>\n",
       "    <tr>\n",
       "      <th>4</th>\n",
       "      <td>0.377460</td>\n",
       "      <td>0.300484</td>\n",
       "      <td>0.197641</td>\n",
       "      <td>0.357846</td>\n",
       "      <td>0.470625</td>\n",
       "      <td>0.302354</td>\n",
       "      <td>0.179517</td>\n",
       "      <td>0.542965</td>\n",
       "      <td>0.599963</td>\n",
       "      <td>0.303633</td>\n",
       "      <td>...</td>\n",
       "      <td>0.253200</td>\n",
       "      <td>0.676568</td>\n",
       "      <td>0.510862</td>\n",
       "      <td>0.631657</td>\n",
       "      <td>0.313992</td>\n",
       "      <td>0.694880</td>\n",
       "      <td>0.408492</td>\n",
       "      <td>0.859661</td>\n",
       "      <td>0.215078</td>\n",
       "      <td>0.917820</td>\n",
       "    </tr>\n",
       "    <tr>\n",
       "      <th>...</th>\n",
       "      <td>...</td>\n",
       "      <td>...</td>\n",
       "      <td>...</td>\n",
       "      <td>...</td>\n",
       "      <td>...</td>\n",
       "      <td>...</td>\n",
       "      <td>...</td>\n",
       "      <td>...</td>\n",
       "      <td>...</td>\n",
       "      <td>...</td>\n",
       "      <td>...</td>\n",
       "      <td>...</td>\n",
       "      <td>...</td>\n",
       "      <td>...</td>\n",
       "      <td>...</td>\n",
       "      <td>...</td>\n",
       "      <td>...</td>\n",
       "      <td>...</td>\n",
       "      <td>...</td>\n",
       "      <td>...</td>\n",
       "      <td>...</td>\n",
       "    </tr>\n",
       "    <tr>\n",
       "      <th>541</th>\n",
       "      <td>0.485192</td>\n",
       "      <td>0.822922</td>\n",
       "      <td>0.392715</td>\n",
       "      <td>0.828087</td>\n",
       "      <td>0.627415</td>\n",
       "      <td>0.945913</td>\n",
       "      <td>0.000000</td>\n",
       "      <td>0.000000</td>\n",
       "      <td>0.556014</td>\n",
       "      <td>0.851447</td>\n",
       "      <td>...</td>\n",
       "      <td>0.000000</td>\n",
       "      <td>0.000000</td>\n",
       "      <td>0.000000</td>\n",
       "      <td>0.000000</td>\n",
       "      <td>0.000000</td>\n",
       "      <td>0.000000</td>\n",
       "      <td>0.000000</td>\n",
       "      <td>0.000000</td>\n",
       "      <td>0.000000</td>\n",
       "      <td>0.000000</td>\n",
       "    </tr>\n",
       "    <tr>\n",
       "      <th>542</th>\n",
       "      <td>0.583668</td>\n",
       "      <td>0.520447</td>\n",
       "      <td>0.532959</td>\n",
       "      <td>0.558943</td>\n",
       "      <td>0.592275</td>\n",
       "      <td>0.525042</td>\n",
       "      <td>0.511910</td>\n",
       "      <td>0.604531</td>\n",
       "      <td>0.550360</td>\n",
       "      <td>0.520461</td>\n",
       "      <td>...</td>\n",
       "      <td>0.540486</td>\n",
       "      <td>0.681675</td>\n",
       "      <td>0.515760</td>\n",
       "      <td>0.663084</td>\n",
       "      <td>0.458586</td>\n",
       "      <td>0.670943</td>\n",
       "      <td>0.435092</td>\n",
       "      <td>0.745804</td>\n",
       "      <td>0.362407</td>\n",
       "      <td>0.748630</td>\n",
       "    </tr>\n",
       "    <tr>\n",
       "      <th>543</th>\n",
       "      <td>0.419663</td>\n",
       "      <td>0.652873</td>\n",
       "      <td>0.373191</td>\n",
       "      <td>0.641693</td>\n",
       "      <td>0.444414</td>\n",
       "      <td>0.699178</td>\n",
       "      <td>0.369516</td>\n",
       "      <td>0.681932</td>\n",
       "      <td>0.486647</td>\n",
       "      <td>0.667621</td>\n",
       "      <td>...</td>\n",
       "      <td>0.362456</td>\n",
       "      <td>0.725952</td>\n",
       "      <td>0.484129</td>\n",
       "      <td>0.755268</td>\n",
       "      <td>0.370119</td>\n",
       "      <td>0.770864</td>\n",
       "      <td>0.458609</td>\n",
       "      <td>0.866820</td>\n",
       "      <td>0.284128</td>\n",
       "      <td>0.897199</td>\n",
       "    </tr>\n",
       "    <tr>\n",
       "      <th>544</th>\n",
       "      <td>0.662146</td>\n",
       "      <td>0.645872</td>\n",
       "      <td>0.674073</td>\n",
       "      <td>0.619589</td>\n",
       "      <td>0.560790</td>\n",
       "      <td>0.740320</td>\n",
       "      <td>0.573328</td>\n",
       "      <td>0.704465</td>\n",
       "      <td>0.472588</td>\n",
       "      <td>0.851524</td>\n",
       "      <td>...</td>\n",
       "      <td>0.443808</td>\n",
       "      <td>0.632817</td>\n",
       "      <td>0.291611</td>\n",
       "      <td>0.488406</td>\n",
       "      <td>0.279879</td>\n",
       "      <td>0.460175</td>\n",
       "      <td>0.234313</td>\n",
       "      <td>0.579899</td>\n",
       "      <td>0.223537</td>\n",
       "      <td>0.538695</td>\n",
       "    </tr>\n",
       "    <tr>\n",
       "      <th>545</th>\n",
       "      <td>0.358667</td>\n",
       "      <td>0.387993</td>\n",
       "      <td>0.364883</td>\n",
       "      <td>0.374371</td>\n",
       "      <td>0.437247</td>\n",
       "      <td>0.447199</td>\n",
       "      <td>0.396598</td>\n",
       "      <td>0.426246</td>\n",
       "      <td>0.451408</td>\n",
       "      <td>0.573994</td>\n",
       "      <td>...</td>\n",
       "      <td>0.504222</td>\n",
       "      <td>0.351500</td>\n",
       "      <td>0.555048</td>\n",
       "      <td>0.389548</td>\n",
       "      <td>0.551565</td>\n",
       "      <td>0.369922</td>\n",
       "      <td>0.670762</td>\n",
       "      <td>0.460954</td>\n",
       "      <td>0.651599</td>\n",
       "      <td>0.414906</td>\n",
       "    </tr>\n",
       "  </tbody>\n",
       "</table>\n",
       "<p>546 rows × 24 columns</p>\n",
       "</div>"
      ]
     },
     "execution_count": 10,
     "metadata": {},
     "output_type": "execute_result"
    }
   ],
   "execution_count": 10
  },
  {
   "metadata": {
    "ExecuteTime": {
     "end_time": "2024-12-15T15:27:54.390629Z",
     "start_time": "2024-12-15T15:27:54.382459Z"
    }
   },
   "cell_type": "code",
   "source": [
    "X_train, X_test, y_train, y_test = train_test_split(X, y, test_size=0.2, stratify=y, shuffle=True, random_state=2022)\n",
    "\n",
    "print(\"Number of Training keypoints: \", len(X_train))\n",
    "print(\"Number of Testing keypoints: \", len(X_test))"
   ],
   "id": "bef5012c08f55431",
   "outputs": [
    {
     "name": "stdout",
     "output_type": "stream",
     "text": [
      "Number of Training keypoints:  436\n",
      "Number of Testing keypoints:  110\n"
     ]
    }
   ],
   "execution_count": 11
  },
  {
   "metadata": {
    "ExecuteTime": {
     "end_time": "2024-12-15T15:28:19.109517Z",
     "start_time": "2024-12-15T15:28:19.107556Z"
    }
   },
   "cell_type": "code",
   "source": "scaler = MinMaxScaler()",
   "id": "d29a8ede446f4b8e",
   "outputs": [],
   "execution_count": 12
  },
  {
   "metadata": {
    "ExecuteTime": {
     "end_time": "2024-12-15T15:28:20.132756Z",
     "start_time": "2024-12-15T15:28:20.126480Z"
    }
   },
   "cell_type": "code",
   "source": [
    "X_train = scaler.fit_transform(X_train)\n",
    "X_test = scaler.transform(X_test)\n",
    "X_test"
   ],
   "id": "25d3a2a2c7b67cf1",
   "outputs": [
    {
     "data": {
      "text/plain": [
       "array([[0.49680482, 0.85462891, 0.47675337, ..., 0.90121424, 0.96241667,\n",
       "        0.94192106],\n",
       "       [0.3941038 , 0.54857019, 0.41727446, ..., 0.50727826, 0.63990587,\n",
       "        0.55852294],\n",
       "       [0.759682  , 0.52781039, 0.75362635, ..., 0.9871787 , 0.71293029,\n",
       "        0.9787571 ],\n",
       "       ...,\n",
       "       [0.85106766, 0.34488609, 0.65875393, ..., 0.8447918 , 0.56890732,\n",
       "        0.8466833 ],\n",
       "       [0.44007042, 0.59896685, 0.3402254 , ..., 0.        , 0.        ,\n",
       "        0.        ],\n",
       "       [0.38874752, 0.72504629, 0.46934833, ..., 0.42011213, 0.55036736,\n",
       "        0.42547867]])"
      ]
     },
     "execution_count": 13,
     "metadata": {},
     "output_type": "execute_result"
    }
   ],
   "execution_count": 13
  },
  {
   "metadata": {
    "ExecuteTime": {
     "end_time": "2024-12-15T15:29:19.262893Z",
     "start_time": "2024-12-15T15:29:19.258124Z"
    }
   },
   "cell_type": "code",
   "source": [
    "class DataKeypointClassification(Dataset):\n",
    "    def __init__(self, X, y):\n",
    "        self.x = torch.from_numpy(X.astype(np.float32))\n",
    "        self.y = torch.from_numpy(y.astype(np.int64))\n",
    "        self.n_samples = X.shape[0]\n",
    "    \n",
    "    def __getitem__(self, index):\n",
    "        return self.x[index], self.y[index]\n",
    "    \n",
    "    def __len__(self):\n",
    "        return self.n_samples"
   ],
   "id": "4a776b8cfa858d03",
   "outputs": [],
   "execution_count": 14
  },
  {
   "metadata": {
    "ExecuteTime": {
     "end_time": "2024-12-15T15:29:42.337104Z",
     "start_time": "2024-12-15T15:29:42.334169Z"
    }
   },
   "cell_type": "code",
   "source": [
    "train_dataset = DataKeypointClassification(X_train, y_train)\n",
    "test_dataset = DataKeypointClassification(X_test, y_test)"
   ],
   "id": "c07faa7ce3771456",
   "outputs": [],
   "execution_count": 15
  },
  {
   "metadata": {
    "ExecuteTime": {
     "end_time": "2024-12-15T15:29:57.752157Z",
     "start_time": "2024-12-15T15:29:57.749180Z"
    }
   },
   "cell_type": "code",
   "source": [
    "batch_size = 12\n",
    "train_loader = DataLoader(train_dataset, batch_size=batch_size)\n",
    "test_loader = DataLoader(test_dataset, batch_size=batch_size)"
   ],
   "id": "57f8f903ec4519cf",
   "outputs": [],
   "execution_count": 16
  },
  {
   "metadata": {
    "ExecuteTime": {
     "end_time": "2024-12-15T15:30:16.226222Z",
     "start_time": "2024-12-15T15:30:16.222660Z"
    }
   },
   "cell_type": "code",
   "source": [
    "class NeuralNet(nn.Module):\n",
    "    def __init__(self, input_size, hidden_size, num_classes):\n",
    "        super(NeuralNet, self).__init__()\n",
    "        self.l1 = nn.Linear(input_size, hidden_size)\n",
    "        self.relu = nn.ReLU()\n",
    "        self.l2 = nn.Linear(hidden_size, num_classes)\n",
    "        \n",
    "    def forward(self, x):\n",
    "        out = self.l1(x)\n",
    "        out = self.relu(out)\n",
    "        out = self.l2(out)\n",
    "        return out"
   ],
   "id": "91c555333587033d",
   "outputs": [],
   "execution_count": 17
  },
  {
   "metadata": {
    "ExecuteTime": {
     "end_time": "2024-12-15T15:47:12.262391Z",
     "start_time": "2024-12-15T15:47:12.258996Z"
    }
   },
   "cell_type": "code",
   "source": [
    "hidden_size = 256\n",
    "model = NeuralNet(X_train.shape[1], hidden_size, len(class_weights))\n",
    "print(X_train.shape[1])"
   ],
   "id": "31d2aa3fb373351",
   "outputs": [
    {
     "name": "stdout",
     "output_type": "stream",
     "text": [
      "24\n"
     ]
    }
   ],
   "execution_count": 34
  },
  {
   "metadata": {
    "ExecuteTime": {
     "end_time": "2024-12-15T15:30:44.969511Z",
     "start_time": "2024-12-15T15:30:44.966390Z"
    }
   },
   "cell_type": "code",
   "source": "len(class_weights)",
   "id": "5f032ca73010afe9",
   "outputs": [
    {
     "data": {
      "text/plain": [
       "2"
      ]
     },
     "execution_count": 19,
     "metadata": {},
     "output_type": "execute_result"
    }
   ],
   "execution_count": 19
  },
  {
   "metadata": {
    "ExecuteTime": {
     "end_time": "2024-12-15T15:31:27.510133Z",
     "start_time": "2024-12-15T15:31:26.935635Z"
    }
   },
   "cell_type": "code",
   "source": [
    "learning_rate = 0.01\n",
    "criterion = nn.CrossEntropyLoss(weight=torch.from_numpy(class_weights.astype(np.float32)))\n",
    "optimizer = torch.optim.Adam(model.parameters(), lr=learning_rate)"
   ],
   "id": "d1966352aff9ff51",
   "outputs": [],
   "execution_count": 20
  },
  {
   "metadata": {
    "ExecuteTime": {
     "end_time": "2024-12-15T15:31:43.712649Z",
     "start_time": "2024-12-15T15:31:41.539845Z"
    }
   },
   "cell_type": "code",
   "source": [
    "num_epoch = 40\n",
    "for epoch in range(num_epoch):\n",
    "    train_acc = 0\n",
    "    train_loss = 0\n",
    "    loop = tqdm(train_loader)\n",
    "    for idx, (features, labels) in enumerate(loop):\n",
    "        outputs = model(features)\n",
    "        loss = criterion(outputs, labels)\n",
    "\n",
    "        predictions = outputs.argmax(dim=1, keepdim=True).squeeze()\n",
    "        correct = (predictions == labels).sum().item()\n",
    "        accuracy = correct / batch_size\n",
    "        optimizer.zero_grad()\n",
    "        loss.backward()\n",
    "        optimizer.step()\n",
    "\n",
    "        loop.set_description(f\"Epoch [{epoch}/{num_epoch}]\")\n",
    "        loop.set_postfix(loss=loss.item(), acc=accuracy)"
   ],
   "id": "8674860353087c91",
   "outputs": [
    {
     "name": "stderr",
     "output_type": "stream",
     "text": [
      "Epoch [0/40]: 100%|██████████| 37/37 [00:00<00:00, 572.91it/s, acc=0.167, loss=0.614]\n",
      "Epoch [1/40]: 100%|██████████| 37/37 [00:00<00:00, 699.78it/s, acc=0.167, loss=0.553]\n",
      "Epoch [2/40]: 100%|██████████| 37/37 [00:00<00:00, 685.37it/s, acc=0.25, loss=0.565]\n",
      "Epoch [3/40]: 100%|██████████| 37/37 [00:00<00:00, 687.44it/s, acc=0.25, loss=0.402]\n",
      "Epoch [4/40]: 100%|██████████| 37/37 [00:00<00:00, 695.65it/s, acc=0.167, loss=0.609]\n",
      "Epoch [5/40]: 100%|██████████| 37/37 [00:00<00:00, 685.63it/s, acc=0.25, loss=0.329]\n",
      "Epoch [6/40]: 100%|██████████| 37/37 [00:00<00:00, 718.62it/s, acc=0.25, loss=0.447]\n",
      "Epoch [7/40]: 100%|██████████| 37/37 [00:00<00:00, 729.05it/s, acc=0.25, loss=0.353]\n",
      "Epoch [8/40]: 100%|██████████| 37/37 [00:00<00:00, 724.31it/s, acc=0.25, loss=0.49]\n",
      "Epoch [9/40]: 100%|██████████| 37/37 [00:00<00:00, 702.81it/s, acc=0.25, loss=0.386]\n",
      "Epoch [10/40]: 100%|██████████| 37/37 [00:00<00:00, 705.49it/s, acc=0.25, loss=0.33]\n",
      "Epoch [11/40]: 100%|██████████| 37/37 [00:00<00:00, 658.40it/s, acc=0.25, loss=0.329]\n",
      "Epoch [12/40]: 100%|██████████| 37/37 [00:00<00:00, 702.48it/s, acc=0.25, loss=0.308]\n",
      "Epoch [13/40]: 100%|██████████| 37/37 [00:00<00:00, 474.18it/s, acc=0.333, loss=0.225]\n",
      "Epoch [14/40]: 100%|██████████| 37/37 [00:00<00:00, 700.75it/s, acc=0.333, loss=0.216]\n",
      "Epoch [15/40]: 100%|██████████| 37/37 [00:00<00:00, 677.66it/s, acc=0.333, loss=0.25]\n",
      "Epoch [16/40]: 100%|██████████| 37/37 [00:00<00:00, 727.31it/s, acc=0.333, loss=0.295]\n",
      "Epoch [17/40]: 100%|██████████| 37/37 [00:00<00:00, 739.26it/s, acc=0.333, loss=0.289]\n",
      "Epoch [18/40]: 100%|██████████| 37/37 [00:00<00:00, 721.01it/s, acc=0.25, loss=0.303]\n",
      "Epoch [19/40]: 100%|██████████| 37/37 [00:00<00:00, 708.68it/s, acc=0.333, loss=0.253]\n",
      "Epoch [20/40]: 100%|██████████| 37/37 [00:00<00:00, 716.24it/s, acc=0.333, loss=0.238]\n",
      "Epoch [21/40]: 100%|██████████| 37/37 [00:00<00:00, 708.73it/s, acc=0.333, loss=0.242]\n",
      "Epoch [22/40]: 100%|██████████| 37/37 [00:00<00:00, 712.25it/s, acc=0.333, loss=0.203]\n",
      "Epoch [23/40]: 100%|██████████| 37/37 [00:00<00:00, 738.51it/s, acc=0.333, loss=0.198]\n",
      "Epoch [24/40]: 100%|██████████| 37/37 [00:00<00:00, 722.87it/s, acc=0.333, loss=0.239]\n",
      "Epoch [25/40]: 100%|██████████| 37/37 [00:00<00:00, 736.54it/s, acc=0.333, loss=0.292]\n",
      "Epoch [26/40]: 100%|██████████| 37/37 [00:00<00:00, 743.85it/s, acc=0.333, loss=0.196]\n",
      "Epoch [27/40]: 100%|██████████| 37/37 [00:00<00:00, 710.32it/s, acc=0.333, loss=0.252]\n",
      "Epoch [28/40]: 100%|██████████| 37/37 [00:00<00:00, 747.53it/s, acc=0.333, loss=0.217]\n",
      "Epoch [29/40]: 100%|██████████| 37/37 [00:00<00:00, 756.91it/s, acc=0.333, loss=0.207]\n",
      "Epoch [30/40]: 100%|██████████| 37/37 [00:00<00:00, 734.17it/s, acc=0.333, loss=0.213]\n",
      "Epoch [31/40]: 100%|██████████| 37/37 [00:00<00:00, 732.97it/s, acc=0.333, loss=0.182]\n",
      "Epoch [32/40]: 100%|██████████| 37/37 [00:00<00:00, 740.74it/s, acc=0.333, loss=0.171]\n",
      "Epoch [33/40]: 100%|██████████| 37/37 [00:00<00:00, 703.73it/s, acc=0.333, loss=0.182]\n",
      "Epoch [34/40]: 100%|██████████| 37/37 [00:00<00:00, 720.34it/s, acc=0.333, loss=0.192]\n",
      "Epoch [35/40]: 100%|██████████| 37/37 [00:00<00:00, 726.03it/s, acc=0.333, loss=0.173]\n",
      "Epoch [36/40]: 100%|██████████| 37/37 [00:00<00:00, 713.77it/s, acc=0.333, loss=0.159]\n",
      "Epoch [37/40]: 100%|██████████| 37/37 [00:00<00:00, 727.77it/s, acc=0.333, loss=0.162]\n",
      "Epoch [38/40]:   0%|          | 0/37 [00:00<?, ?it/s, acc=0.667, loss=0.673]IOPub message rate exceeded.\n",
      "The Jupyter server will temporarily stop sending output\n",
      "to the client in order to avoid crashing it.\n",
      "To change this limit, set the config variable\n",
      "`--ServerApp.iopub_msg_rate_limit`.\n",
      "\n",
      "Current values:\n",
      "ServerApp.iopub_msg_rate_limit=1000.0 (msgs/sec)\n",
      "ServerApp.rate_limit_window=3.0 (secs)\n",
      "\n"
     ]
    }
   ],
   "execution_count": 21
  },
  {
   "metadata": {
    "ExecuteTime": {
     "end_time": "2024-12-15T15:32:27.798843Z",
     "start_time": "2024-12-15T15:32:27.789311Z"
    }
   },
   "cell_type": "code",
   "source": [
    "test_features = torch.from_numpy(X_test.astype(np.float32))\n",
    "test_labels = y_test\n",
    "with torch.no_grad():\n",
    "    outputs = model(test_features)\n",
    "    _, predictions = torch.max(outputs, 1)\n",
    "predictions"
   ],
   "id": "c59139e6113fff04",
   "outputs": [
    {
     "data": {
      "text/plain": [
       "tensor([0, 0, 1, 0, 0, 0, 1, 0, 0, 0, 0, 0, 0, 0, 1, 0, 0, 0, 0, 0, 0, 1, 1, 1,\n",
       "        1, 1, 0, 0, 0, 1, 0, 1, 0, 0, 0, 1, 1, 1, 1, 0, 1, 1, 0, 0, 0, 1, 1, 1,\n",
       "        0, 1, 1, 0, 1, 1, 0, 0, 1, 0, 0, 0, 0, 0, 0, 1, 1, 1, 0, 1, 1, 0, 0, 1,\n",
       "        0, 1, 0, 0, 1, 0, 0, 0, 0, 0, 0, 0, 1, 1, 0, 0, 1, 0, 0, 0, 1, 1, 1, 1,\n",
       "        1, 1, 0, 0, 1, 0, 0, 0, 1, 0, 0, 1, 0, 0])"
      ]
     },
     "execution_count": 22,
     "metadata": {},
     "output_type": "execute_result"
    }
   ],
   "execution_count": 22
  },
  {
   "metadata": {
    "ExecuteTime": {
     "end_time": "2024-12-15T15:32:29.791028Z",
     "start_time": "2024-12-15T15:32:29.781882Z"
    }
   },
   "cell_type": "code",
   "source": "print(classification_report(test_labels, predictions, target_names=encoder.classes_))",
   "id": "a297a627bb4a46b3",
   "outputs": [
    {
     "name": "stdout",
     "output_type": "stream",
     "text": [
      "              precision    recall  f1-score   support\n",
      "\n",
      "        fall       0.88      0.92      0.90        63\n",
      "    not-fall       0.89      0.83      0.86        47\n",
      "\n",
      "    accuracy                           0.88       110\n",
      "   macro avg       0.88      0.88      0.88       110\n",
      "weighted avg       0.88      0.88      0.88       110\n",
      "\n"
     ]
    }
   ],
   "execution_count": 23
  },
  {
   "metadata": {
    "ExecuteTime": {
     "end_time": "2024-12-15T15:35:43.268867Z",
     "start_time": "2024-12-15T15:35:43.264434Z"
    }
   },
   "cell_type": "code",
   "source": [
    "PATH_SAVE = '../../../../../data/weights/yolo_pose_nnClassifier/pose_classification.pt'\n",
    "torch.save(model.state_dict(), PATH_SAVE)"
   ],
   "id": "a9eb43dbed22ed94",
   "outputs": [],
   "execution_count": 27
  },
  {
   "metadata": {
    "ExecuteTime": {
     "end_time": "2024-12-15T15:35:51.562354Z",
     "start_time": "2024-12-15T15:35:51.545516Z"
    }
   },
   "cell_type": "code",
   "source": [
    "model_inference =  NeuralNet(\n",
    "        X_train.shape[1], \n",
    "        hidden_size, \n",
    "        len(class_weights)\n",
    "    )\n",
    "\n",
    "model_inference.load_state_dict(\n",
    "        torch.load(PATH_SAVE, map_location=device)\n",
    "    )"
   ],
   "id": "c8c954843d211411",
   "outputs": [
    {
     "name": "stderr",
     "output_type": "stream",
     "text": [
      "/var/folders/f6/cqgl3gc517zb0rzw3ms24b9r0000gn/T/ipykernel_86703/1259055062.py:8: FutureWarning: You are using `torch.load` with `weights_only=False` (the current default value), which uses the default pickle module implicitly. It is possible to construct malicious pickle data which will execute arbitrary code during unpickling (See https://github.com/pytorch/pytorch/blob/main/SECURITY.md#untrusted-models for more details). In a future release, the default value for `weights_only` will be flipped to `True`. This limits the functions that could be executed during unpickling. Arbitrary objects will no longer be allowed to be loaded via this mode unless they are explicitly allowlisted by the user via `torch.serialization.add_safe_globals`. We recommend you start setting `weights_only=True` for any use case where you don't have full control of the loaded file. Please open an issue on GitHub for any issues related to this experimental feature.\n",
      "  torch.load(PATH_SAVE, map_location=device)\n"
     ]
    },
    {
     "data": {
      "text/plain": [
       "<All keys matched successfully>"
      ]
     },
     "execution_count": 28,
     "metadata": {},
     "output_type": "execute_result"
    }
   ],
   "execution_count": 28
  },
  {
   "metadata": {
    "ExecuteTime": {
     "end_time": "2024-12-15T15:36:28.158588Z",
     "start_time": "2024-12-15T15:36:28.154285Z"
    }
   },
   "cell_type": "code",
   "source": [
    "feature, label = test_dataset.__getitem__(104)\n",
    "\n",
    "out = model_inference(feature)\n",
    "_, predict = torch.max(out, -1)\n",
    "print(f'\\\n",
    "    prediction label : {encoder.classes_[predict]} \\n\\\n",
    "    ground thrut label : {encoder.classes_[label]}'\n",
    "    )"
   ],
   "id": "f0ef08ecb91de930",
   "outputs": [
    {
     "name": "stdout",
     "output_type": "stream",
     "text": [
      "    prediction label : not-fall \n",
      "    ground thrut label : not-fall\n"
     ]
    }
   ],
   "execution_count": 33
  }
 ],
 "metadata": {
  "kernelspec": {
   "display_name": "Python 3",
   "language": "python",
   "name": "python3"
  },
  "language_info": {
   "codemirror_mode": {
    "name": "ipython",
    "version": 2
   },
   "file_extension": ".py",
   "mimetype": "text/x-python",
   "name": "python",
   "nbconvert_exporter": "python",
   "pygments_lexer": "ipython2",
   "version": "2.7.6"
  }
 },
 "nbformat": 4,
 "nbformat_minor": 5
}
