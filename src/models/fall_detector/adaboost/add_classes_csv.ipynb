{
 "cells": [
  {
   "cell_type": "code",
   "id": "initial_id",
   "metadata": {
    "collapsed": true,
    "ExecuteTime": {
     "end_time": "2024-12-23T22:15:14.054389Z",
     "start_time": "2024-12-23T22:15:13.779564Z"
    }
   },
   "source": "import pandas as pd",
   "outputs": [],
   "execution_count": 1
  },
  {
   "metadata": {
    "ExecuteTime": {
     "end_time": "2024-12-23T23:20:32.019063Z",
     "start_time": "2024-12-23T23:20:32.000330Z"
    }
   },
   "cell_type": "code",
   "source": [
    "df_path = 'fall_detection_dataset.csv'\n",
    "\n",
    "df = pd.read_csv(df_path)\n",
    "\n",
    "df.head()"
   ],
   "id": "61e5fdcbeb2057f5",
   "outputs": [
    {
     "data": {
      "text/plain": [
       "   track_id  frame  area  aspect_ratio  area_change_avg  area_change_std  \\\n",
       "0       497    2.0  5562      0.524272              0.0              0.0   \n",
       "1       497    3.0  5775      0.523810              0.0              0.0   \n",
       "2       497    4.0  5992      0.523364              0.0              0.0   \n",
       "3       497    5.0  6156      0.527778              0.0              0.0   \n",
       "4       497    6.0  6264      0.537037              0.0              0.0   \n",
       "\n",
       "   aspect_ratio_change_avg  aspect_ratio_change_std  aspect_ratio_avg  \\\n",
       "0                      0.0                      0.0          0.524272   \n",
       "1                      0.0                      0.0          0.523810   \n",
       "2                      0.0                      0.0          0.523364   \n",
       "3                      0.0                      0.0          0.527778   \n",
       "4                      0.0                      0.0          0.537037   \n",
       "\n",
       "   aspect_ratio_std  \n",
       "0               0.0  \n",
       "1               0.0  \n",
       "2               0.0  \n",
       "3               0.0  \n",
       "4               0.0  "
      ],
      "text/html": [
       "<div>\n",
       "<style scoped>\n",
       "    .dataframe tbody tr th:only-of-type {\n",
       "        vertical-align: middle;\n",
       "    }\n",
       "\n",
       "    .dataframe tbody tr th {\n",
       "        vertical-align: top;\n",
       "    }\n",
       "\n",
       "    .dataframe thead th {\n",
       "        text-align: right;\n",
       "    }\n",
       "</style>\n",
       "<table border=\"1\" class=\"dataframe\">\n",
       "  <thead>\n",
       "    <tr style=\"text-align: right;\">\n",
       "      <th></th>\n",
       "      <th>track_id</th>\n",
       "      <th>frame</th>\n",
       "      <th>area</th>\n",
       "      <th>aspect_ratio</th>\n",
       "      <th>area_change_avg</th>\n",
       "      <th>area_change_std</th>\n",
       "      <th>aspect_ratio_change_avg</th>\n",
       "      <th>aspect_ratio_change_std</th>\n",
       "      <th>aspect_ratio_avg</th>\n",
       "      <th>aspect_ratio_std</th>\n",
       "    </tr>\n",
       "  </thead>\n",
       "  <tbody>\n",
       "    <tr>\n",
       "      <th>0</th>\n",
       "      <td>497</td>\n",
       "      <td>2.0</td>\n",
       "      <td>5562</td>\n",
       "      <td>0.524272</td>\n",
       "      <td>0.0</td>\n",
       "      <td>0.0</td>\n",
       "      <td>0.0</td>\n",
       "      <td>0.0</td>\n",
       "      <td>0.524272</td>\n",
       "      <td>0.0</td>\n",
       "    </tr>\n",
       "    <tr>\n",
       "      <th>1</th>\n",
       "      <td>497</td>\n",
       "      <td>3.0</td>\n",
       "      <td>5775</td>\n",
       "      <td>0.523810</td>\n",
       "      <td>0.0</td>\n",
       "      <td>0.0</td>\n",
       "      <td>0.0</td>\n",
       "      <td>0.0</td>\n",
       "      <td>0.523810</td>\n",
       "      <td>0.0</td>\n",
       "    </tr>\n",
       "    <tr>\n",
       "      <th>2</th>\n",
       "      <td>497</td>\n",
       "      <td>4.0</td>\n",
       "      <td>5992</td>\n",
       "      <td>0.523364</td>\n",
       "      <td>0.0</td>\n",
       "      <td>0.0</td>\n",
       "      <td>0.0</td>\n",
       "      <td>0.0</td>\n",
       "      <td>0.523364</td>\n",
       "      <td>0.0</td>\n",
       "    </tr>\n",
       "    <tr>\n",
       "      <th>3</th>\n",
       "      <td>497</td>\n",
       "      <td>5.0</td>\n",
       "      <td>6156</td>\n",
       "      <td>0.527778</td>\n",
       "      <td>0.0</td>\n",
       "      <td>0.0</td>\n",
       "      <td>0.0</td>\n",
       "      <td>0.0</td>\n",
       "      <td>0.527778</td>\n",
       "      <td>0.0</td>\n",
       "    </tr>\n",
       "    <tr>\n",
       "      <th>4</th>\n",
       "      <td>497</td>\n",
       "      <td>6.0</td>\n",
       "      <td>6264</td>\n",
       "      <td>0.537037</td>\n",
       "      <td>0.0</td>\n",
       "      <td>0.0</td>\n",
       "      <td>0.0</td>\n",
       "      <td>0.0</td>\n",
       "      <td>0.537037</td>\n",
       "      <td>0.0</td>\n",
       "    </tr>\n",
       "  </tbody>\n",
       "</table>\n",
       "</div>"
      ]
     },
     "execution_count": 22,
     "metadata": {},
     "output_type": "execute_result"
    }
   ],
   "execution_count": 22
  },
  {
   "metadata": {
    "ExecuteTime": {
     "end_time": "2024-12-23T23:20:34.634489Z",
     "start_time": "2024-12-23T23:20:34.629856Z"
    }
   },
   "cell_type": "code",
   "source": [
    "frames = 630\n",
    "\n",
    "df.loc[:frames-1, 'class'] = 0 \n",
    "df.loc[frames:, 'class'] = 1 \n"
   ],
   "id": "6bea800f51bc8ed2",
   "outputs": [],
   "execution_count": 23
  },
  {
   "metadata": {
    "ExecuteTime": {
     "end_time": "2024-12-23T23:20:37.460569Z",
     "start_time": "2024-12-23T23:20:37.444959Z"
    }
   },
   "cell_type": "code",
   "source": "df.to_csv(df_path, index=False)",
   "id": "9960cdc979e3085a",
   "outputs": [],
   "execution_count": 24
  }
 ],
 "metadata": {
  "kernelspec": {
   "display_name": "Python 3",
   "language": "python",
   "name": "python3"
  },
  "language_info": {
   "codemirror_mode": {
    "name": "ipython",
    "version": 2
   },
   "file_extension": ".py",
   "mimetype": "text/x-python",
   "name": "python",
   "nbconvert_exporter": "python",
   "pygments_lexer": "ipython2",
   "version": "2.7.6"
  }
 },
 "nbformat": 4,
 "nbformat_minor": 5
}
