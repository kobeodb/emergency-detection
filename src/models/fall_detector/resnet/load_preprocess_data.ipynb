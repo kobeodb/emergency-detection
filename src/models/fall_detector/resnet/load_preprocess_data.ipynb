{
 "cells": [
  {
   "cell_type": "code",
   "id": "initial_id",
   "metadata": {
    "collapsed": true,
    "ExecuteTime": {
     "end_time": "2024-12-16T21:13:26.064337Z",
     "start_time": "2024-12-16T21:13:24.463286Z"
    }
   },
   "source": [
    "from scipy.special import dtype\n",
    "from torchvision import datasets, transforms\n",
    "from torch.utils.data import DataLoader\n",
    "from pathlib import Path"
   ],
   "outputs": [],
   "execution_count": 1
  },
  {
   "metadata": {
    "ExecuteTime": {
     "end_time": "2024-12-16T22:23:15.765090Z",
     "start_time": "2024-12-16T22:23:15.760772Z"
    }
   },
   "cell_type": "code",
   "source": [
    "current_file = Path().resolve()\n",
    "\n",
    "src_dir = current_file\n",
    "while src_dir.name != \"src\" and src_dir != src_dir.parent:\n",
    "    src_dir = src_dir.parent"
   ],
   "id": "c5239ad12fac1159",
   "outputs": [],
   "execution_count": 37
  },
  {
   "metadata": {
    "ExecuteTime": {
     "end_time": "2024-12-16T22:04:33.086420Z",
     "start_time": "2024-12-16T22:04:33.083928Z"
    }
   },
   "cell_type": "code",
   "source": "data_dir = Path(src_dir / 'data' / 'classification_data')",
   "id": "d3b44e4a92c62086",
   "outputs": [],
   "execution_count": 9
  },
  {
   "metadata": {
    "ExecuteTime": {
     "end_time": "2024-12-16T22:04:34.872683Z",
     "start_time": "2024-12-16T22:04:34.615429Z"
    }
   },
   "cell_type": "code",
   "source": [
    "# import shutil\n",
    "# from sklearn.model_selection import train_test_split\n",
    "# \n",
    "# output_dir = Path(src_dir / 'data' / 'resnet_data')\n",
    "# train_dir = output_dir / \"train\"\n",
    "# valid_dir = output_dir / \"valid\"\n",
    "# \n",
    "# for split in [train_dir, valid_dir]:\n",
    "#     split.mkdir(parents=True, exist_ok=True)\n",
    "#     \n",
    "# \n",
    "# for class_dir in data_dir.iterdir():\n",
    "#     if class_dir.is_dir():\n",
    "#         images = list(class_dir.glob(\"*.jpg\")) + list(class_dir.glob(\"*.png\"))\n",
    "#         train_images, valid_images = train_test_split(images, test_size=0.2, random_state=42)\n",
    "#         \n",
    "#         for img_path in train_images:\n",
    "#             dest_dir = train_dir / class_dir.name\n",
    "#             dest_dir.mkdir(parents=True, exist_ok=True)\n",
    "#             shutil.copy(img_path, dest_dir)\n",
    "#         \n",
    "#         for img_path in valid_images:\n",
    "#             dest_dir = valid_dir / class_dir.name\n",
    "#             dest_dir.mkdir(parents=True, exist_ok=True)\n",
    "#             shutil.copy(img_path, dest_dir)\n"
   ],
   "id": "8f4d48421e4879eb",
   "outputs": [],
   "execution_count": 10
  },
  {
   "metadata": {
    "ExecuteTime": {
     "end_time": "2024-12-17T00:57:56.494681Z",
     "start_time": "2024-12-17T00:57:56.491559Z"
    }
   },
   "cell_type": "code",
   "source": [
    "data_transforms = {\n",
    "    'train': transforms.Compose([\n",
    "        transforms.Resize((224, 224)),      \n",
    "        transforms.ToTensor(),\n",
    "        transforms.Normalize([0.485, 0.456, 0.406], [0.229, 0.224, 0.225])  \n",
    "    ]),\n",
    "    'val': transforms.Compose([\n",
    "        transforms.Resize((224, 224)),\n",
    "        transforms.ToTensor(),\n",
    "        transforms.Normalize([0.485, 0.456, 0.406], [0.229, 0.224, 0.225])\n",
    "    ]),\n",
    "}"
   ],
   "id": "86856cafac3bab27",
   "outputs": [],
   "execution_count": 62
  },
  {
   "metadata": {
    "ExecuteTime": {
     "end_time": "2024-12-17T00:57:57.712305Z",
     "start_time": "2024-12-17T00:57:57.707211Z"
    }
   },
   "cell_type": "code",
   "source": [
    "# resnet_data_dir = Path(src_dir / 'data' / 'resnet_data')\n",
    "resnet_data_dir = Path(src_dir / 'data' / 'fall_detection_v1')\n"
   ],
   "id": "31af9d8d8c8f6db6",
   "outputs": [],
   "execution_count": 63
  },
  {
   "metadata": {
    "ExecuteTime": {
     "end_time": "2024-12-17T00:57:59.507659Z",
     "start_time": "2024-12-17T00:57:59.491741Z"
    }
   },
   "cell_type": "code",
   "source": [
    "image_datasets = {\n",
    "    'train': datasets.ImageFolder(root=f\"{resnet_data_dir}/train\", transform=data_transforms['train']),\n",
    "    'val': datasets.ImageFolder(root=f\"{resnet_data_dir}/valid\", transform=data_transforms['val'])\n",
    "}\n",
    "\n",
    "dataloaders = {\n",
    "    'train': DataLoader(image_datasets['train'], batch_size=32, shuffle=True, num_workers=4),\n",
    "    'val': DataLoader(image_datasets['val'], batch_size=32, shuffle=False, num_workers=4)\n",
    "}"
   ],
   "id": "97ec84c5689f27ba",
   "outputs": [],
   "execution_count": 64
  },
  {
   "metadata": {
    "ExecuteTime": {
     "end_time": "2024-12-17T00:58:43.227149Z",
     "start_time": "2024-12-17T00:58:43.224238Z"
    }
   },
   "cell_type": "code",
   "source": [
    "dataset_sizes = {x: len(image_datasets[x]) for x in ['train', 'val']}\n",
    "class_names = image_datasets['train'].classes\n",
    "\n",
    "print(dataset_sizes)\n",
    "class_names"
   ],
   "id": "d14c420c3a6ae683",
   "outputs": [
    {
     "name": "stdout",
     "output_type": "stream",
     "text": [
      "{'train': 3192, 'val': 1140}\n"
     ]
    },
    {
     "data": {
      "text/plain": [
       "['Fall Detected', 'Not Fall']"
      ]
     },
     "execution_count": 67,
     "metadata": {},
     "output_type": "execute_result"
    }
   ],
   "execution_count": 67
  },
  {
   "metadata": {
    "ExecuteTime": {
     "end_time": "2024-12-17T00:58:50.979299Z",
     "start_time": "2024-12-17T00:58:50.062001Z"
    }
   },
   "cell_type": "code",
   "source": [
    "import torch\n",
    "import torch.nn as nn\n",
    "from torchvision import models\n",
    "\n",
    "model = models.resnet50(pretrained=True)\n",
    "\n",
    "num_features = model.fc.in_features\n",
    "model.fc = nn.Linear(num_features, 2)\n",
    "\n",
    "device = torch.device(\"mps\")\n",
    "model = model.to(device)"
   ],
   "id": "fbc6f9a76234d48f",
   "outputs": [
    {
     "name": "stderr",
     "output_type": "stream",
     "text": [
      "/Library/Frameworks/Python.framework/Versions/3.11/lib/python3.11/site-packages/torchvision/models/_utils.py:208: UserWarning: The parameter 'pretrained' is deprecated since 0.13 and may be removed in the future, please use 'weights' instead.\n",
      "  warnings.warn(\n",
      "/Library/Frameworks/Python.framework/Versions/3.11/lib/python3.11/site-packages/torchvision/models/_utils.py:223: UserWarning: Arguments other than a weight enum or `None` for 'weights' are deprecated since 0.13 and may be removed in the future. The current behavior is equivalent to passing `weights=ResNet50_Weights.IMAGENET1K_V1`. You can also use `weights=ResNet50_Weights.DEFAULT` to get the most up-to-date weights.\n",
      "  warnings.warn(msg)\n"
     ]
    }
   ],
   "execution_count": 68
  },
  {
   "metadata": {
    "ExecuteTime": {
     "end_time": "2024-12-17T01:01:56.026576Z",
     "start_time": "2024-12-17T01:01:56.020921Z"
    }
   },
   "cell_type": "code",
   "source": [
    "import torch.optim as optim\n",
    "from sklearn.utils import class_weight\n",
    "import numpy as np\n",
    "\n",
    "labels = [sample[1] for sample in image_datasets['train'].samples]\n",
    "class_weights = class_weight.compute_class_weight('balanced', classes=np.unique(labels), y=labels)\n",
    "class_weights_tensor = torch.tensor(class_weights, dtype=torch.float32, device=device)\n",
    "\n",
    "\n",
    "criterion = nn.CrossEntropyLoss(weight=class_weights_tensor)\n",
    "optimizer = optim.Adam(model.parameters(), lr=0.001)\n",
    "\n",
    "scheduler = optim.lr_scheduler.StepLR(optimizer, step_size=7, gamma=0.1)\n"
   ],
   "id": "cd4a473074d65e73",
   "outputs": [],
   "execution_count": 73
  },
  {
   "metadata": {
    "ExecuteTime": {
     "end_time": "2024-12-17T01:07:59.094625Z",
     "start_time": "2024-12-17T01:07:59.087248Z"
    }
   },
   "cell_type": "code",
   "source": [
    "import copy\n",
    "\n",
    "def train_model(model, dataloaders, criterion, optimizer, scheduler, num_epochs=25):\n",
    "    best_model_weights = copy.deepcopy(model.state_dict())\n",
    "    best_acc = 0.0\n",
    "    \n",
    "    for epoch in range(num_epochs):\n",
    "        for phase in ['train', 'val']:\n",
    "            if phase == 'train':\n",
    "                model.train()\n",
    "            else:\n",
    "                model.eval()\n",
    "            \n",
    "            running_loss = 0.0\n",
    "            running_corrects = 0\n",
    "            \n",
    "            for inputs, labels in dataloaders[phase]:\n",
    "                inputs, labels = inputs.to(device), labels.to(device)\n",
    "                \n",
    "                optimizer.zero_grad()\n",
    "                \n",
    "                with torch.set_grad_enabled(phase == 'train'):\n",
    "                    outputs = model(inputs)\n",
    "                    _, preds = torch.max(outputs, 1)\n",
    "                    loss = criterion(outputs, labels)\n",
    "                    \n",
    "                    \n",
    "                    if phase == 'train':\n",
    "                        loss.backward()\n",
    "                        optimizer.step()\n",
    "                        \n",
    "                running_loss += float(loss.item() * inputs.size(0)) \n",
    "                running_corrects += torch.sum(preds == labels.data).float()  \n",
    "\n",
    "                \n",
    "            if phase == 'train':\n",
    "                scheduler.step()\n",
    "\n",
    "            epoch_loss = running_loss / dataset_sizes[phase]\n",
    "            epoch_acc = running_corrects / dataset_sizes[phase]\n",
    "\n",
    "\n",
    "\n",
    "            print(f'{phase} Loss: {epoch_loss:.4f} Acc: {epoch_acc:.4f}')\n",
    "                    \n",
    "            \n",
    "            if phase == 'val' and epoch_acc > best_acc:\n",
    "                best_acc = epoch_acc\n",
    "                best_model_weights = copy.deepcopy(model.state_dict())\n",
    "\n",
    "    print(f'Best val Acc: {best_acc:.4f}')\n",
    "    model.load_state_dict(best_model_weights)\n",
    "    return model\n"
   ],
   "id": "7f460419eba81912",
   "outputs": [],
   "execution_count": 77
  },
  {
   "metadata": {
    "ExecuteTime": {
     "end_time": "2024-12-17T01:48:34.067853Z",
     "start_time": "2024-12-17T01:08:01.607960Z"
    }
   },
   "cell_type": "code",
   "source": "model = train_model(model, dataloaders, criterion, optimizer, scheduler, num_epochs=25)\n",
   "id": "347cdfd1c2b70a33",
   "outputs": [
    {
     "name": "stdout",
     "output_type": "stream",
     "text": [
      "train Loss: 0.1329 Acc: 0.9549\n",
      "val Loss: 0.1310 Acc: 0.9465\n",
      "train Loss: 0.1412 Acc: 0.9445\n",
      "val Loss: 0.1561 Acc: 0.9430\n",
      "train Loss: 0.0767 Acc: 0.9715\n",
      "val Loss: 0.2102 Acc: 0.9474\n",
      "train Loss: 0.1064 Acc: 0.9615\n",
      "val Loss: 0.1185 Acc: 0.9605\n",
      "train Loss: 0.0704 Acc: 0.9746\n",
      "val Loss: 0.1510 Acc: 0.9474\n",
      "train Loss: 0.0429 Acc: 0.9856\n",
      "val Loss: 0.0980 Acc: 0.9675\n",
      "train Loss: 0.0256 Acc: 0.9919\n",
      "val Loss: 0.1031 Acc: 0.9658\n",
      "train Loss: 0.0142 Acc: 0.9966\n",
      "val Loss: 0.1276 Acc: 0.9640\n",
      "train Loss: 0.0148 Acc: 0.9969\n",
      "val Loss: 0.1019 Acc: 0.9667\n",
      "train Loss: 0.0139 Acc: 0.9947\n",
      "val Loss: 0.1207 Acc: 0.9623\n",
      "train Loss: 0.0184 Acc: 0.9940\n",
      "val Loss: 0.1003 Acc: 0.9684\n",
      "train Loss: 0.0115 Acc: 0.9969\n",
      "val Loss: 0.1318 Acc: 0.9614\n",
      "train Loss: 0.0066 Acc: 0.9984\n",
      "val Loss: 0.1172 Acc: 0.9675\n",
      "train Loss: 0.0130 Acc: 0.9969\n",
      "val Loss: 0.1168 Acc: 0.9658\n",
      "train Loss: 0.0066 Acc: 0.9987\n",
      "val Loss: 0.1160 Acc: 0.9675\n",
      "train Loss: 0.0070 Acc: 0.9981\n",
      "val Loss: 0.1188 Acc: 0.9693\n",
      "train Loss: 0.0094 Acc: 0.9978\n",
      "val Loss: 0.1209 Acc: 0.9702\n",
      "train Loss: 0.0075 Acc: 0.9978\n",
      "val Loss: 0.1133 Acc: 0.9675\n",
      "train Loss: 0.0099 Acc: 0.9975\n",
      "val Loss: 0.1191 Acc: 0.9658\n",
      "train Loss: 0.0101 Acc: 0.9972\n",
      "val Loss: 0.1264 Acc: 0.9693\n",
      "train Loss: 0.0094 Acc: 0.9969\n",
      "val Loss: 0.1117 Acc: 0.9684\n",
      "train Loss: 0.0106 Acc: 0.9972\n",
      "val Loss: 0.1168 Acc: 0.9693\n",
      "train Loss: 0.0069 Acc: 0.9984\n",
      "val Loss: 0.1144 Acc: 0.9693\n",
      "train Loss: 0.0060 Acc: 0.9987\n",
      "val Loss: 0.1188 Acc: 0.9693\n",
      "train Loss: 0.0120 Acc: 0.9944\n",
      "val Loss: 0.1143 Acc: 0.9675\n",
      "Best val Acc: 0.9702\n"
     ]
    }
   ],
   "execution_count": 78
  },
  {
   "metadata": {
    "ExecuteTime": {
     "end_time": "2024-12-17T01:50:23.493139Z",
     "start_time": "2024-12-17T01:50:23.164874Z"
    }
   },
   "cell_type": "code",
   "source": "torch.save(model.state_dict(), 'resnet_v2_fall_detection.pth')\n",
   "id": "6c5c2f2fa11fe0d4",
   "outputs": [],
   "execution_count": 79
  }
 ],
 "metadata": {
  "kernelspec": {
   "display_name": "Python 3",
   "language": "python",
   "name": "python3"
  },
  "language_info": {
   "codemirror_mode": {
    "name": "ipython",
    "version": 2
   },
   "file_extension": ".py",
   "mimetype": "text/x-python",
   "name": "python",
   "nbconvert_exporter": "python",
   "pygments_lexer": "ipython2",
   "version": "2.7.6"
  }
 },
 "nbformat": 4,
 "nbformat_minor": 5
}
